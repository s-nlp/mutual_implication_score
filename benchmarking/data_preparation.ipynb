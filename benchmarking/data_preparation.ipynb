{
 "cells": [
  {
   "cell_type": "markdown",
   "id": "3fc09ddf",
   "metadata": {},
   "source": [
    "This notebook reproduces the process of collection of datasets into the folder `datasets`. \n",
    "\n",
    "During the process, it creates lots of temporary files that can safely be removed."
   ]
  },
  {
   "cell_type": "code",
   "execution_count": 2,
   "id": "64f6c9a7",
   "metadata": {},
   "outputs": [],
   "source": [
    "import pandas as pd\n",
    "import numpy as np\n",
    "import csv\n",
    "import os"
   ]
  },
  {
   "cell_type": "markdown",
   "id": "f682b206",
   "metadata": {
    "id": "1cmcLjXcJ1yW"
   },
   "source": [
    "### APT"
   ]
  },
  {
   "cell_type": "code",
   "execution_count": 1,
   "id": "2d09681c",
   "metadata": {
    "colab": {
     "base_uri": "https://localhost:8080/"
    },
    "id": "aOoGhC-rdM4L",
    "outputId": "0c414305-e8de-4e1c-d257-cd59cc81f839"
   },
   "outputs": [
    {
     "name": "stdout",
     "output_type": "stream",
     "text": [
      "Archive:  adversarial datasets.zip\n",
      "  inflating: ap-h-test               \n",
      "  inflating: ap-h-train              \n",
      "  inflating: apt5-m                  \n",
      "  inflating: apt5-tw                 \n",
      "  inflating: README.txt              \n"
     ]
    },
    {
     "name": "stderr",
     "output_type": "stream",
     "text": [
      "Downloading...\n",
      "From: https://drive.google.com/uc?id=1a4_w9ZXMoD8AHcnLi6BIHtUCSDhsRlJp\n",
      "To: C:\\Users\\david\\YandexDisk\\mainwork\\skoltech\\tost\\mutual_implication_score\\benchmarking\\adversarial datasets.zip\n",
      "\n",
      "  0%|          | 0.00/3.31M [00:00<?, ?B/s]\n",
      " 32%|███▏      | 1.05M/3.31M [00:00<00:00, 8.37MB/s]\n",
      "100%|██████████| 3.31M/3.31M [00:00<00:00, 19.0MB/s]\n"
     ]
    }
   ],
   "source": [
    "! gdown --id 1a4_w9ZXMoD8AHcnLi6BIHtUCSDhsRlJp && unzip \"adversarial datasets.zip\""
   ]
  },
  {
   "cell_type": "code",
   "execution_count": 3,
   "id": "02125cdb",
   "metadata": {
    "colab": {
     "base_uri": "https://localhost:8080/"
    },
    "id": "DuGBj2NfD81z",
    "outputId": "85b8887f-142d-47d2-d3dd-20a1fe51d9a9"
   },
   "outputs": [
    {
     "name": "stdout",
     "output_type": "stream",
     "text": [
      "(1261, 3)\n",
      "(1252, 3)\n"
     ]
    }
   ],
   "source": [
    "df = pd.read_csv('ap-h-test', sep='\\t')\n",
    "print(df.shape)\n",
    "df = df.dropna()\n",
    "print(df.shape)"
   ]
  },
  {
   "cell_type": "code",
   "execution_count": 4,
   "id": "7f4e99b7",
   "metadata": {
    "id": "Lf-h3AbDECbM"
   },
   "outputs": [],
   "source": [
    "pd.DataFrame({\n",
    "    'text1': df.text_a,\n",
    "    'text2': df.text_b,\n",
    "    'human': df.labels,\n",
    "}).to_csv('datasets/advers.csv', index=None)"
   ]
  },
  {
   "cell_type": "markdown",
   "id": "ccf6a165",
   "metadata": {
    "id": "bvq0y77KMNk3"
   },
   "source": [
    "### Yamshikov"
   ]
  },
  {
   "cell_type": "code",
   "execution_count": 5,
   "id": "1cde7f8c",
   "metadata": {
    "colab": {
     "base_uri": "https://localhost:8080/"
    },
    "id": "--vhS-JMMOd2",
    "outputId": "c558b4fb-e284-4f13-d4cd-766f9999424b"
   },
   "outputs": [
    {
     "name": "stdout",
     "output_type": "stream",
     "text": [
      "(3223, 6)\n"
     ]
    }
   ],
   "source": [
    "df = pd.concat([\n",
    "    pd.read_csv('https://raw.githubusercontent.com/VAShibaev/semantic_similarity_metrics/main/Paraphrase/Paraphrase.csv'),\n",
    "    pd.read_csv('https://raw.githubusercontent.com/VAShibaev/semantic_similarity_metrics/main/Paraphrase/Paraphrase_random.csv'),\n",
    "    pd.read_csv('https://raw.githubusercontent.com/VAShibaev/semantic_similarity_metrics/main/Paralex/Paralex.csv'),\n",
    "    pd.read_csv('https://raw.githubusercontent.com/VAShibaev/semantic_similarity_metrics/main/Paralex/Paralex_random.csv'),\n",
    "]).drop_duplicates(['text_1', 'text_2'])\n",
    "print(df.shape)"
   ]
  },
  {
   "cell_type": "code",
   "execution_count": 6,
   "id": "e0dc3e7e",
   "metadata": {
    "id": "E7hAQS5oNOVj"
   },
   "outputs": [],
   "source": [
    "pd.DataFrame({\n",
    "    'text1': df.text_1,\n",
    "    'text2': df.text_2,\n",
    "    'human': df.avg_score,\n",
    "}).to_csv('datasets/yamsh_para.csv', index=None)"
   ]
  },
  {
   "cell_type": "code",
   "execution_count": 7,
   "id": "58b6ed7f",
   "metadata": {
    "colab": {
     "base_uri": "https://localhost:8080/"
    },
    "id": "5dY7Gu55ff0v",
    "outputId": "8867414c-416b-4ecd-b12d-20d706fb7f0e"
   },
   "outputs": [
    {
     "name": "stdout",
     "output_type": "stream",
     "text": [
      "(2000, 6)\n"
     ]
    }
   ],
   "source": [
    "df = pd.concat([\n",
    "    pd.read_csv('https://raw.githubusercontent.com/VAShibaev/semantic_similarity_metrics/main/Bible/Bible.csv'),\n",
    "    pd.read_csv('https://raw.githubusercontent.com/VAShibaev/semantic_similarity_metrics/main/Bible/Bible_random.csv'),\n",
    "]).drop_duplicates(['text_1', 'text_2'])\n",
    "print(df.shape)\n",
    "\n",
    "pd.DataFrame({\n",
    "    'text1': df.text_1,\n",
    "    'text2': df.text_2,\n",
    "    'human': df.avg_score,\n",
    "}).to_csv('datasets/yamsh_bible.csv', index=None)"
   ]
  },
  {
   "cell_type": "code",
   "execution_count": 8,
   "id": "1f29bef8",
   "metadata": {
    "colab": {
     "base_uri": "https://localhost:8080/"
    },
    "id": "7iFDZnZufpl4",
    "outputId": "63e4ffe8-af86-42a7-fa84-3076e998c120"
   },
   "outputs": [
    {
     "name": "stdout",
     "output_type": "stream",
     "text": [
      "(6000, 6)\n"
     ]
    }
   ],
   "source": [
    "df = pd.concat([\n",
    "    pd.read_csv('https://raw.githubusercontent.com/VAShibaev/semantic_similarity_metrics/main/GYAFC/GYAFC_formal.csv'),\n",
    "    pd.read_csv('https://raw.githubusercontent.com/VAShibaev/semantic_similarity_metrics/main/GYAFC/GYAFC_formal_random.csv'),\n",
    "    pd.read_csv('https://raw.githubusercontent.com/VAShibaev/semantic_similarity_metrics/main/GYAFC/GYAFC_informal.csv'),\n",
    "    pd.read_csv('https://raw.githubusercontent.com/VAShibaev/semantic_similarity_metrics/main/GYAFC/GYAFC_informal_random.csv'),\n",
    "    pd.read_csv('https://raw.githubusercontent.com/VAShibaev/semantic_similarity_metrics/main/GYAFC/GYAFC_rewrites.csv'),\n",
    "    pd.read_csv('https://raw.githubusercontent.com/VAShibaev/semantic_similarity_metrics/main/GYAFC/GYAFC_rewrites_random.csv'),\n",
    "])\n",
    "print(df.shape)\n",
    "\n",
    "pd.DataFrame({\n",
    "    'text1': df.text_1,\n",
    "    'text2': df.text_2,\n",
    "    'human': df.avg_score,\n",
    "}).to_csv('datasets/yamsh_gyafc.csv', index=None)"
   ]
  },
  {
   "cell_type": "code",
   "execution_count": 71,
   "id": "14581f8f",
   "metadata": {},
   "outputs": [
    {
     "name": "stdout",
     "output_type": "stream",
     "text": [
      "(2000, 6)\n"
     ]
    }
   ],
   "source": [
    "df = pd.concat([\n",
    "    pd.read_csv('https://raw.githubusercontent.com/VAShibaev/semantic_similarity_metrics/main/Yelp/Yelp.csv'),\n",
    "    pd.read_csv('https://raw.githubusercontent.com/VAShibaev/semantic_similarity_metrics/main/Yelp/Yelp_random.csv'),\n",
    "])\n",
    "print(df.shape)\n",
    "\n",
    "pd.DataFrame({\n",
    "    'text1': df.text_1,\n",
    "    'text2': df.text_2,\n",
    "    'human': df.avg_score,\n",
    "}).to_csv('datasets/yamsh_yelp.csv', index=None)"
   ]
  },
  {
   "cell_type": "markdown",
   "id": "177fafb5",
   "metadata": {
    "id": "aMRbSbCwKGtl"
   },
   "source": [
    "### ETPC\n",
    "\n",
    "надо доразобраться, как Коля собрал такой датасет"
   ]
  },
  {
   "cell_type": "code",
   "execution_count": 9,
   "id": "dde46309",
   "metadata": {
    "colab": {
     "base_uri": "https://localhost:8080/"
    },
    "collapsed": true,
    "id": "gskP6rKLRMld",
    "outputId": "7a1e6acd-61e8-4752-9966-c11a18eb6782"
   },
   "outputs": [
    {
     "name": "stderr",
     "output_type": "stream",
     "text": [
      "--2022-05-04 17:44:44--  https://raw.githubusercontent.com/venelink/ETPC/master/Corpus/text_pairs.xml\n",
      "Resolving raw.githubusercontent.com (raw.githubusercontent.com)... 2606:50c0:8000::154, 2606:50c0:8001::154, 2606:50c0:8003::154, ...\n",
      "Connecting to raw.githubusercontent.com (raw.githubusercontent.com)|2606:50c0:8000::154|:443... connected.\n",
      "HTTP request sent, awaiting response... 200 OK\n",
      "Length: 4743037 (4,5M) [text/plain]\n",
      "Saving to: 'text_pairs.xml'\n",
      "\n",
      "     0K .......... .......... .......... .......... ..........  1% 1,11M 4s\n",
      "    50K .......... .......... .......... .......... ..........  2% 4,34M 2s\n",
      "   100K .......... .......... .......... .......... ..........  3% 2,02M 2s\n",
      "   150K .......... .......... .......... .......... ..........  4% 5,00M 2s\n",
      "   200K .......... .......... .......... .......... ..........  5% 2,34M 2s\n",
      "   250K .......... .......... .......... .......... ..........  6% 4,45M 2s\n",
      "   300K .......... .......... .......... .......... ..........  7% 6,46M 2s\n",
      "   350K .......... .......... .......... .......... ..........  8% 1,82M 2s\n",
      "   400K .......... .......... .......... .......... ..........  9% 5,50M 2s\n",
      "   450K .......... .......... .......... .......... .......... 10% 12,5M 1s\n",
      "   500K .......... .......... .......... .......... .......... 11% 12,1M 1s\n",
      "   550K .......... .......... .......... .......... .......... 12% 19,9M 1s\n",
      "   600K .......... .......... .......... .......... .......... 14% 3,16M 1s\n",
      "   650K .......... .......... .......... .......... .......... 15% 12,3M 1s\n",
      "   700K .......... .......... .......... .......... .......... 16% 17,0M 1s\n",
      "   750K .......... .......... .......... .......... .......... 17% 11,8M 1s\n",
      "   800K .......... .......... .......... .......... .......... 18% 20,7M 1s\n",
      "   850K .......... .......... .......... .......... .......... 19% 23,0M 1s\n",
      "   900K .......... .......... .......... .......... .......... 20% 22,3M 1s\n",
      "   950K .......... .......... .......... .......... .......... 21% 18,8M 1s\n",
      "  1000K .......... .......... .......... .......... .......... 22% 22,9M 1s\n",
      "  1050K .......... .......... .......... .......... .......... 23% 35,4M 1s\n",
      "  1100K .......... .......... .......... .......... .......... 24% 4,71M 1s\n",
      "  1150K .......... .......... .......... .......... .......... 25% 6,97M 1s\n",
      "  1200K .......... .......... .......... .......... .......... 26% 22,1M 1s\n",
      "  1250K .......... .......... .......... .......... .......... 28% 31,0M 1s\n",
      "  1300K .......... .......... .......... .......... .......... 29% 92,8M 1s\n",
      "  1350K .......... .......... .......... .......... .......... 30% 47,2M 1s\n",
      "  1400K .......... .......... .......... .......... .......... 31% 38,8M 1s\n",
      "  1450K .......... .......... .......... .......... .......... 32% 38,9M 0s\n",
      "  1500K .......... .......... .......... .......... .......... 33% 28,4M 0s\n",
      "  1550K .......... .......... .......... .......... .......... 34%  104M 0s\n",
      "  1600K .......... .......... .......... .......... .......... 35% 30,9M 0s\n",
      "  1650K .......... .......... .......... .......... .......... 36% 47,8M 0s\n",
      "  1700K .......... .......... .......... .......... .......... 37% 71,4M 0s\n",
      "  1750K .......... .......... .......... .......... .......... 38% 6,77M 0s\n",
      "  1800K .......... .......... .......... .......... .......... 39% 55,5M 0s\n",
      "  1850K .......... .......... .......... .......... .......... 41% 28,2M 0s\n",
      "  1900K .......... .......... .......... .......... .......... 42% 48,1M 0s\n",
      "  1950K .......... .......... .......... .......... .......... 43%  215M 0s\n",
      "  2000K .......... .......... .......... .......... .......... 44% 46,1M 0s\n",
      "  2050K .......... .......... .......... .......... .......... 45% 63,2M 0s\n",
      "  2100K .......... .......... .......... .......... .......... 46% 11,5M 0s\n",
      "  2150K .......... .......... .......... .......... .......... 47%  191M 0s\n",
      "  2200K .......... .......... .......... .......... .......... 48% 17,8M 0s\n",
      "  2250K .......... .......... .......... .......... .......... 49% 10,6M 0s\n",
      "  2300K .......... .......... .......... .......... .......... 50% 34,4M 0s\n",
      "  2350K .......... .......... .......... .......... .......... 51% 47,5M 0s\n",
      "  2400K .......... .......... .......... .......... .......... 52%  211M 0s\n",
      "  2450K .......... .......... .......... .......... .......... 53% 97,0M 0s\n",
      "  2500K .......... .......... .......... .......... .......... 55% 74,2M 0s\n",
      "  2550K .......... .......... .......... .......... .......... 56% 79,6M 0s\n",
      "  2600K .......... .......... .......... .......... .......... 57% 22,4M 0s\n",
      "  2650K .......... .......... .......... .......... .......... 58%  202M 0s\n",
      "  2700K .......... .......... .......... .......... .......... 59%  231M 0s\n",
      "  2750K .......... .......... .......... .......... .......... 60% 35,2M 0s\n",
      "  2800K .......... .......... .......... .......... .......... 61%  157M 0s\n",
      "  2850K .......... .......... .......... .......... .......... 62% 16,3M 0s\n",
      "  2900K .......... .......... .......... .......... .......... 63%  181M 0s\n",
      "  2950K .......... .......... .......... .......... .......... 64%  209M 0s\n",
      "  3000K .......... .......... .......... .......... .......... 65% 40,6M 0s\n",
      "  3050K .......... .......... .......... .......... .......... 66%  183M 0s\n",
      "  3100K .......... .......... .......... .......... .......... 68%  209M 0s\n",
      "  3150K .......... .......... .......... .......... .......... 69% 14,8M 0s\n",
      "  3200K .......... .......... .......... .......... .......... 70%  112M 0s\n",
      "  3250K .......... .......... .......... .......... .......... 71%  246M 0s\n",
      "  3300K .......... .......... .......... .......... .......... 72%  201M 0s\n",
      "  3350K .......... .......... .......... .......... .......... 73%  326M 0s\n",
      "  3400K .......... .......... .......... .......... .......... 74% 19,0M 0s\n",
      "  3450K .......... .......... .......... .......... .......... 75% 23,1M 0s\n",
      "  3500K .......... .......... .......... .......... .......... 76%  289M 0s\n",
      "  3550K .......... .......... .......... .......... .......... 77%  223M 0s\n",
      "  3600K .......... .......... .......... .......... .......... 78%  287M 0s\n",
      "  3650K .......... .......... .......... .......... .......... 79% 12,7M 0s\n",
      "  3700K .......... .......... .......... .......... .......... 80%  288M 0s\n",
      "  3750K .......... .......... .......... .......... .......... 82% 23,1M 0s\n",
      "  3800K .......... .......... .......... .......... .......... 83%  126M 0s\n",
      "  3850K .......... .......... .......... .......... .......... 84%  281M 0s\n",
      "  3900K .......... .......... .......... .......... .......... 85% 16,6M 0s\n",
      "  3950K .......... .......... .......... .......... .......... 86%  143M 0s\n",
      "  4000K .......... .......... .......... .......... .......... 87%  309M 0s\n",
      "  4050K .......... .......... .......... .......... .......... 88%  231M 0s\n",
      "  4100K .......... .......... .......... .......... .......... 89%  129M 0s\n",
      "  4150K .......... .......... .......... .......... .......... 90%  254M 0s\n",
      "  4200K .......... .......... .......... .......... .......... 91% 19,4M 0s\n",
      "  4250K .......... .......... .......... .......... .......... 92%  273M 0s\n",
      "  4300K .......... .......... .......... .......... .......... 93%  189M 0s\n",
      "  4350K .......... .......... .......... .......... .......... 94%  191M 0s\n",
      "  4400K .......... .......... .......... .......... .......... 96% 58,7M 0s\n",
      "  4450K .......... .......... .......... .......... .......... 97%  189M 0s\n",
      "  4500K .......... .......... .......... .......... .......... 98% 13,9M 0s\n",
      "  4550K .......... .......... .......... .......... .......... 99%  222M 0s\n",
      "  4600K .......... .......... .......... .                    100%  276M=0,3s\n",
      "\n",
      "2022-05-04 17:44:45 (14,5 MB/s) - 'text_pairs.xml' saved [4743037/4743037]\n",
      "\n",
      "--2022-05-04 17:44:45--  https://raw.githubusercontent.com/venelink/ETPC/master/Corpus/textual_np_neg.xml\n",
      "Resolving raw.githubusercontent.com (raw.githubusercontent.com)... 2606:50c0:8000::154, 2606:50c0:8001::154, 2606:50c0:8003::154, ...\n",
      "Connecting to raw.githubusercontent.com (raw.githubusercontent.com)|2606:50c0:8000::154|:443... connected.\n",
      "HTTP request sent, awaiting response... 200 OK\n",
      "Length: 1333161 (1,3M) [text/plain]\n",
      "Saving to: 'textual_np_neg.xml'\n",
      "\n",
      "     0K .......... .......... .......... .......... ..........  3% 1,13M 1s\n",
      "    50K .......... .......... .......... .......... ..........  7% 4,54M 1s\n",
      "   100K .......... .......... .......... .......... .......... 11% 1,96M 1s\n",
      "   150K .......... .......... .......... .......... .......... 15% 7,40M 0s\n",
      "   200K .......... .......... .......... .......... .......... 19% 1,97M 0s\n",
      "   250K .......... .......... .......... .......... .......... 23% 5,04M 0s\n",
      "   300K .......... .......... .......... .......... .......... 26% 6,48M 0s\n",
      "   350K .......... .......... .......... .......... .......... 30% 1,92M 0s\n",
      "   400K .......... .......... .......... .......... .......... 34% 7,51M 0s\n",
      "   450K .......... .......... .......... .......... .......... 38% 14,0M 0s\n",
      "   500K .......... .......... .......... .......... .......... 42% 17,0M 0s\n",
      "   550K .......... .......... .......... .......... .......... 46% 15,4M 0s\n",
      "   600K .......... .......... .......... .......... .......... 49% 2,81M 0s\n",
      "   650K .......... .......... .......... .......... .......... 53% 21,3M 0s\n",
      "   700K .......... .......... .......... .......... .......... 57% 19,3M 0s\n",
      "   750K .......... .......... .......... .......... .......... 61% 11,2M 0s\n",
      "   800K .......... .......... .......... .......... .......... 65% 26,8M 0s\n",
      "   850K .......... .......... .......... .......... .......... 69% 25,2M 0s\n",
      "   900K .......... .......... .......... .......... .......... 72% 27,1M 0s\n",
      "   950K .......... .......... .......... .......... .......... 76% 21,5M 0s\n",
      "  1000K .......... .......... .......... .......... .......... 80% 24,7M 0s\n",
      "  1050K .......... .......... .......... .......... .......... 84% 35,8M 0s\n",
      "  1100K .......... .......... .......... .......... .......... 88% 25,9M 0s\n",
      "  1150K .......... .......... .......... .......... .......... 92% 4,17M 0s\n",
      "  1200K .......... .......... .......... .......... .......... 96% 16,7M 0s\n",
      "  1250K .......... .......... .......... .......... .......... 99% 15,2M 0s\n",
      "  1300K .                                                     100% 36,5G=0,2s\n",
      "\n",
      "2022-05-04 17:44:45 (5,61 MB/s) - 'textual_np_neg.xml' saved [1333161/1333161]\n",
      "\n"
     ]
    },
    {
     "name": "stderr",
     "output_type": "stream",
     "text": [
      "--2022-05-04 17:44:45--  https://raw.githubusercontent.com/venelink/ETPC/master/Corpus/textual_np_pos.xml\n",
      "Resolving raw.githubusercontent.com (raw.githubusercontent.com)... 2606:50c0:8000::154, 2606:50c0:8001::154, 2606:50c0:8003::154, ...\n",
      "Connecting to raw.githubusercontent.com (raw.githubusercontent.com)|2606:50c0:8000::154|:443... connected.\n",
      "HTTP request sent, awaiting response... 200 OK\n",
      "Length: 2315282 (2,2M) [text/plain]\n",
      "Saving to: 'textual_np_pos.xml'\n",
      "\n",
      "     0K .......... .......... .......... .......... ..........  2% 1,11M 2s\n",
      "    50K .......... .......... .......... .......... ..........  4% 3,03M 1s\n",
      "   100K .......... .......... .......... .......... ..........  6% 1,67M 1s\n",
      "   150K .......... .......... .......... .......... ..........  8% 3,47M 1s\n",
      "   200K .......... .......... .......... .......... .......... 11% 3,15M 1s\n",
      "   250K .......... .......... .......... .......... .......... 13% 3,24M 1s\n",
      "   300K .......... .......... .......... .......... .......... 15% 4,14M 1s\n",
      "   350K .......... .......... .......... .......... .......... 17% 2,22M 1s\n",
      "   400K .......... .......... .......... .......... .......... 19% 4,36M 1s\n",
      "   450K .......... .......... .......... .......... .......... 22% 9,18M 1s\n",
      "   500K .......... .......... .......... .......... .......... 24% 9,75M 1s\n",
      "   550K .......... .......... .......... .......... .......... 26% 10,6M 1s\n",
      "   600K .......... .......... .......... .......... .......... 28% 8,37M 0s\n",
      "   650K .......... .......... .......... .......... .......... 30% 11,7M 0s\n",
      "   700K .......... .......... .......... .......... .......... 33% 9,57M 0s\n",
      "   750K .......... .......... .......... .......... .......... 35% 6,74M 0s\n",
      "   800K .......... .......... .......... .......... .......... 37% 9,88M 0s\n",
      "   850K .......... .......... .......... .......... .......... 39% 13,9M 0s\n",
      "   900K .......... .......... .......... .......... .......... 42% 13,0M 0s\n",
      "   950K .......... .......... .......... .......... .......... 44% 12,2M 0s\n",
      "  1000K .......... .......... .......... .......... .......... 46% 18,5M 0s\n",
      "  1050K .......... .......... .......... .......... .......... 48% 16,1M 0s\n",
      "  1100K .......... .......... .......... .......... .......... 50% 17,5M 0s\n",
      "  1150K .......... .......... .......... .......... .......... 53% 16,9M 0s\n",
      "  1200K .......... .......... .......... .......... .......... 55% 20,7M 0s\n",
      "  1250K .......... .......... .......... .......... .......... 57% 17,4M 0s\n",
      "  1300K .......... .......... .......... .......... .......... 59% 28,2M 0s\n",
      "  1350K .......... .......... .......... .......... .......... 61% 26,6M 0s\n",
      "  1400K .......... .......... .......... .......... .......... 64% 25,3M 0s\n",
      "  1450K .......... .......... .......... .......... .......... 66% 24,9M 0s\n",
      "  1500K .......... .......... .......... .......... .......... 68% 18,4M 0s\n",
      "  1550K .......... .......... .......... .......... .......... 70% 26,0M 0s\n",
      "  1600K .......... .......... .......... .......... .......... 72% 52,7M 0s\n",
      "  1650K .......... .......... .......... .......... .......... 75% 24,1M 0s\n",
      "  1700K .......... .......... .......... .......... .......... 77% 31,6M 0s\n",
      "  1750K .......... .......... .......... .......... .......... 79% 21,7M 0s\n",
      "  1800K .......... .......... .......... .......... .......... 81% 38,6M 0s\n",
      "  1850K .......... .......... .......... .......... .......... 84% 25,3M 0s\n",
      "  1900K .......... .......... .......... .......... .......... 86% 32,5M 0s\n",
      "  1950K .......... .......... .......... .......... .......... 88% 14,6M 0s\n",
      "  2000K .......... .......... .......... .......... .......... 90%  220M 0s\n",
      "  2050K .......... .......... .......... .......... .......... 92% 40,7M 0s\n",
      "  2100K .......... .......... .......... .......... .......... 95% 25,0M 0s\n",
      "  2150K .......... .......... .......... .......... .......... 97% 51,2M 0s\n",
      "  2200K .......... .......... .......... .......... .......... 99% 21,2M 0s\n",
      "  2250K .......... .                                          100%  415M=0,3s\n",
      "\n",
      "2022-05-04 17:44:46 (7,82 MB/s) - 'textual_np_pos.xml' saved [2315282/2315282]\n",
      "\n"
     ]
    }
   ],
   "source": [
    "!wget https://raw.githubusercontent.com/venelink/ETPC/master/Corpus/text_pairs.xml\n",
    "!wget https://raw.githubusercontent.com/venelink/ETPC/master/Corpus/textual_np_neg.xml\n",
    "!wget https://raw.githubusercontent.com/venelink/ETPC/master/Corpus/textual_np_pos.xml"
   ]
  },
  {
   "cell_type": "code",
   "execution_count": 50,
   "id": "73b2a248",
   "metadata": {
    "colab": {
     "base_uri": "https://localhost:8080/"
    },
    "id": "TdlLNRvZRcQf",
    "outputId": "f6ef9bcf-0ba8-4829-a0f0-eabef1797924"
   },
   "outputs": [
    {
     "data": {
      "text/plain": [
       "(8993, 12)"
      ]
     },
     "execution_count": 50,
     "metadata": {},
     "output_type": "execute_result"
    }
   ],
   "source": [
    "df = pd.concat([\n",
    "    pd.read_xml('https://raw.githubusercontent.com/venelink/ETPC/master/Corpus/textual_np_neg.xml'),\n",
    "    pd.read_xml('https://raw.githubusercontent.com/venelink/ETPC/master/Corpus/textual_np_pos.xml')\n",
    "])\n",
    "df.shape"
   ]
  },
  {
   "cell_type": "code",
   "execution_count": 51,
   "id": "091f046d",
   "metadata": {
    "colab": {
     "base_uri": "https://localhost:8080/"
    },
    "id": "_JxxzA6uTEUO",
    "outputId": "4a658151-f25c-4390-d70d-743840a3765d"
   },
   "outputs": [
    {
     "data": {
      "text/plain": [
       "(8361, 12)"
      ]
     },
     "execution_count": 51,
     "metadata": {},
     "output_type": "execute_result"
    }
   ],
   "source": [
    "df.drop_duplicates(subset=['s1_text', 's2_text']).shape"
   ]
  },
  {
   "cell_type": "code",
   "execution_count": 49,
   "id": "f1651fe3",
   "metadata": {
    "colab": {
     "base_uri": "https://localhost:8080/"
    },
    "id": "HncBXP-MS-ve",
    "outputId": "032a8bcd-82d9-4989-a193-9b15c630bea6"
   },
   "outputs": [
    {
     "data": {
      "text/plain": [
       "(5599, 12)"
      ]
     },
     "execution_count": 49,
     "metadata": {},
     "output_type": "execute_result"
    }
   ],
   "source": [
    "pd.read_xml('https://raw.githubusercontent.com/venelink/ETPC/master/Corpus/textual_np_pos.xml').shape"
   ]
  },
  {
   "cell_type": "code",
   "execution_count": 48,
   "id": "adc3bc5e",
   "metadata": {
    "colab": {
     "base_uri": "https://localhost:8080/"
    },
    "id": "XaXRd92VS8wS",
    "outputId": "df315a24-74b1-4290-b804-5e2eec8d50e4"
   },
   "outputs": [
    {
     "data": {
      "text/plain": [
       "(3394, 12)"
      ]
     },
     "execution_count": 48,
     "metadata": {},
     "output_type": "execute_result"
    }
   ],
   "source": [
    "pd.read_xml('https://raw.githubusercontent.com/venelink/ETPC/master/Corpus/textual_np_neg.xml').shape"
   ]
  },
  {
   "cell_type": "code",
   "execution_count": 47,
   "id": "de6472fd",
   "metadata": {
    "colab": {
     "base_uri": "https://localhost:8080/"
    },
    "id": "Mg1fabGJRf5v",
    "outputId": "bdbd9834-4276-4178-cfa4-d2ef38f38d82"
   },
   "outputs": [
    {
     "data": {
      "text/plain": [
       "(8993, 12)"
      ]
     },
     "execution_count": 47,
     "metadata": {},
     "output_type": "execute_result"
    }
   ],
   "source": [
    "df.shape"
   ]
  },
  {
   "cell_type": "code",
   "execution_count": 45,
   "id": "90f507ae",
   "metadata": {
    "id": "fK5JPcyRRUbJ"
   },
   "outputs": [],
   "source": [
    "df = pd.read_xml('https://raw.githubusercontent.com/venelink/ETPC/master/Corpus/textual_np_pos.xml')"
   ]
  },
  {
   "cell_type": "code",
   "execution_count": 44,
   "id": "3c013e13",
   "metadata": {
    "colab": {
     "base_uri": "https://localhost:8080/",
     "height": 641
    },
    "id": "pzqTDilQRXe7",
    "outputId": "93aa408e-1650-4195-a0f5-4f4f73540975"
   },
   "outputs": [
    {
     "data": {
      "text/html": [
       "\n",
       "  <div id=\"df-72f8f61c-a28a-4629-981a-bbb0ab0e311a\">\n",
       "    <div class=\"colab-df-container\">\n",
       "      <div>\n",
       "<style scoped>\n",
       "    .dataframe tbody tr th:only-of-type {\n",
       "        vertical-align: middle;\n",
       "    }\n",
       "\n",
       "    .dataframe tbody tr th {\n",
       "        vertical-align: top;\n",
       "    }\n",
       "\n",
       "    .dataframe thead th {\n",
       "        text-align: right;\n",
       "    }\n",
       "</style>\n",
       "<table border=\"1\" class=\"dataframe\">\n",
       "  <thead>\n",
       "    <tr style=\"text-align: right;\">\n",
       "      <th></th>\n",
       "      <th>pair_id</th>\n",
       "      <th>type_id</th>\n",
       "      <th>type_name</th>\n",
       "      <th>sense_preserving</th>\n",
       "      <th>s1_scope</th>\n",
       "      <th>s2_scope</th>\n",
       "      <th>s1_text</th>\n",
       "      <th>s2_text</th>\n",
       "      <th>key_s1</th>\n",
       "      <th>key_s2</th>\n",
       "      <th>k1_text</th>\n",
       "      <th>k2_text</th>\n",
       "    </tr>\n",
       "  </thead>\n",
       "  <tbody>\n",
       "    <tr>\n",
       "      <th>0</th>\n",
       "      <td>2</td>\n",
       "      <td>7</td>\n",
       "      <td>Same Polarity Substitution (named ent.)</td>\n",
       "      <td>no</td>\n",
       "      <td>13, 14, 15</td>\n",
       "      <td>16, 17, 18</td>\n",
       "      <td>$ 2.5 billion</td>\n",
       "      <td>$ 1.8 billion</td>\n",
       "      <td>None</td>\n",
       "      <td>None</td>\n",
       "      <td>None</td>\n",
       "      <td>None</td>\n",
       "    </tr>\n",
       "    <tr>\n",
       "      <th>1</th>\n",
       "      <td>2</td>\n",
       "      <td>25</td>\n",
       "      <td>Addition/Deletion</td>\n",
       "      <td>no</td>\n",
       "      <td>None</td>\n",
       "      <td>1, 2, 3, 4, 5, 6, 7, 8, 9</td>\n",
       "      <td>None</td>\n",
       "      <td>bought Dominick 's in 1995 for $ 693 million</td>\n",
       "      <td>None</td>\n",
       "      <td>None</td>\n",
       "      <td>None</td>\n",
       "      <td>None</td>\n",
       "    </tr>\n",
       "    <tr>\n",
       "      <th>2</th>\n",
       "      <td>4</td>\n",
       "      <td>7</td>\n",
       "      <td>Same Polarity Substitution (named ent.)</td>\n",
       "      <td>no</td>\n",
       "      <td>8, 9</td>\n",
       "      <td>3, 4</td>\n",
       "      <td>19 cents</td>\n",
       "      <td>20 cents</td>\n",
       "      <td>None</td>\n",
       "      <td>None</td>\n",
       "      <td>None</td>\n",
       "      <td>None</td>\n",
       "    </tr>\n",
       "    <tr>\n",
       "      <th>3</th>\n",
       "      <td>4</td>\n",
       "      <td>7</td>\n",
       "      <td>Same Polarity Substitution (named ent.)</td>\n",
       "      <td>no</td>\n",
       "      <td>12, 13</td>\n",
       "      <td>7, 8</td>\n",
       "      <td>4.4 %</td>\n",
       "      <td>4.6 %</td>\n",
       "      <td>None</td>\n",
       "      <td>None</td>\n",
       "      <td>None</td>\n",
       "      <td>None</td>\n",
       "    </tr>\n",
       "    <tr>\n",
       "      <th>4</th>\n",
       "      <td>4</td>\n",
       "      <td>6</td>\n",
       "      <td>Same Polarity Substitution (contextual)</td>\n",
       "      <td>no</td>\n",
       "      <td>20, 21, 22</td>\n",
       "      <td>10, 11</td>\n",
       "      <td>having earlier set</td>\n",
       "      <td>to set</td>\n",
       "      <td>None</td>\n",
       "      <td>None</td>\n",
       "      <td>None</td>\n",
       "      <td>None</td>\n",
       "    </tr>\n",
       "    <tr>\n",
       "      <th>...</th>\n",
       "      <td>...</td>\n",
       "      <td>...</td>\n",
       "      <td>...</td>\n",
       "      <td>...</td>\n",
       "      <td>...</td>\n",
       "      <td>...</td>\n",
       "      <td>...</td>\n",
       "      <td>...</td>\n",
       "      <td>...</td>\n",
       "      <td>...</td>\n",
       "      <td>...</td>\n",
       "      <td>...</td>\n",
       "    </tr>\n",
       "    <tr>\n",
       "      <th>3389</th>\n",
       "      <td>5795</td>\n",
       "      <td>25</td>\n",
       "      <td>Addition/Deletion</td>\n",
       "      <td>no</td>\n",
       "      <td>20, 21, 22, 23, 24, 25, 26, 27</td>\n",
       "      <td>None</td>\n",
       "      <td>as storm clouds threatened to dump more rain</td>\n",
       "      <td>None</td>\n",
       "      <td>None</td>\n",
       "      <td>None</td>\n",
       "      <td>None</td>\n",
       "      <td>None</td>\n",
       "    </tr>\n",
       "    <tr>\n",
       "      <th>3390</th>\n",
       "      <td>5797</td>\n",
       "      <td>25</td>\n",
       "      <td>Addition/Deletion</td>\n",
       "      <td>no</td>\n",
       "      <td>0, 1, 2, 3, 4, 5, 6</td>\n",
       "      <td>None</td>\n",
       "      <td>After Hughes refused to rehire Hernandez ,</td>\n",
       "      <td>None</td>\n",
       "      <td>None</td>\n",
       "      <td>None</td>\n",
       "      <td>None</td>\n",
       "      <td>None</td>\n",
       "    </tr>\n",
       "    <tr>\n",
       "      <th>3391</th>\n",
       "      <td>5797</td>\n",
       "      <td>25</td>\n",
       "      <td>Addition/Deletion</td>\n",
       "      <td>no</td>\n",
       "      <td>None</td>\n",
       "      <td>8, 9</td>\n",
       "      <td>None</td>\n",
       "      <td>and sued</td>\n",
       "      <td>None</td>\n",
       "      <td>None</td>\n",
       "      <td>None</td>\n",
       "      <td>None</td>\n",
       "    </tr>\n",
       "    <tr>\n",
       "      <th>3392</th>\n",
       "      <td>5798</td>\n",
       "      <td>30</td>\n",
       "      <td>Non-paraphrase</td>\n",
       "      <td>no</td>\n",
       "      <td>whole sentence</td>\n",
       "      <td>whole sentence</td>\n",
       "      <td>There are 103 Democrats in the Assembly and 47...</td>\n",
       "      <td>Democrats dominate the Assembly while Republic...</td>\n",
       "      <td>None</td>\n",
       "      <td>None</td>\n",
       "      <td>None</td>\n",
       "      <td>None</td>\n",
       "    </tr>\n",
       "    <tr>\n",
       "      <th>3393</th>\n",
       "      <td>5799</td>\n",
       "      <td>25</td>\n",
       "      <td>Addition/Deletion</td>\n",
       "      <td>no</td>\n",
       "      <td>None</td>\n",
       "      <td>12, 13, 14, 15, 16</td>\n",
       "      <td>None</td>\n",
       "      <td>, talked of the attack</td>\n",
       "      <td>None</td>\n",
       "      <td>None</td>\n",
       "      <td>None</td>\n",
       "      <td>None</td>\n",
       "    </tr>\n",
       "  </tbody>\n",
       "</table>\n",
       "<p>3394 rows × 12 columns</p>\n",
       "</div>\n",
       "      <button class=\"colab-df-convert\" onclick=\"convertToInteractive('df-72f8f61c-a28a-4629-981a-bbb0ab0e311a')\"\n",
       "              title=\"Convert this dataframe to an interactive table.\"\n",
       "              style=\"display:none;\">\n",
       "        \n",
       "  <svg xmlns=\"http://www.w3.org/2000/svg\" height=\"24px\"viewBox=\"0 0 24 24\"\n",
       "       width=\"24px\">\n",
       "    <path d=\"M0 0h24v24H0V0z\" fill=\"none\"/>\n",
       "    <path d=\"M18.56 5.44l.94 2.06.94-2.06 2.06-.94-2.06-.94-.94-2.06-.94 2.06-2.06.94zm-11 1L8.5 8.5l.94-2.06 2.06-.94-2.06-.94L8.5 2.5l-.94 2.06-2.06.94zm10 10l.94 2.06.94-2.06 2.06-.94-2.06-.94-.94-2.06-.94 2.06-2.06.94z\"/><path d=\"M17.41 7.96l-1.37-1.37c-.4-.4-.92-.59-1.43-.59-.52 0-1.04.2-1.43.59L10.3 9.45l-7.72 7.72c-.78.78-.78 2.05 0 2.83L4 21.41c.39.39.9.59 1.41.59.51 0 1.02-.2 1.41-.59l7.78-7.78 2.81-2.81c.8-.78.8-2.07 0-2.86zM5.41 20L4 18.59l7.72-7.72 1.47 1.35L5.41 20z\"/>\n",
       "  </svg>\n",
       "      </button>\n",
       "      \n",
       "  <style>\n",
       "    .colab-df-container {\n",
       "      display:flex;\n",
       "      flex-wrap:wrap;\n",
       "      gap: 12px;\n",
       "    }\n",
       "\n",
       "    .colab-df-convert {\n",
       "      background-color: #E8F0FE;\n",
       "      border: none;\n",
       "      border-radius: 50%;\n",
       "      cursor: pointer;\n",
       "      display: none;\n",
       "      fill: #1967D2;\n",
       "      height: 32px;\n",
       "      padding: 0 0 0 0;\n",
       "      width: 32px;\n",
       "    }\n",
       "\n",
       "    .colab-df-convert:hover {\n",
       "      background-color: #E2EBFA;\n",
       "      box-shadow: 0px 1px 2px rgba(60, 64, 67, 0.3), 0px 1px 3px 1px rgba(60, 64, 67, 0.15);\n",
       "      fill: #174EA6;\n",
       "    }\n",
       "\n",
       "    [theme=dark] .colab-df-convert {\n",
       "      background-color: #3B4455;\n",
       "      fill: #D2E3FC;\n",
       "    }\n",
       "\n",
       "    [theme=dark] .colab-df-convert:hover {\n",
       "      background-color: #434B5C;\n",
       "      box-shadow: 0px 1px 3px 1px rgba(0, 0, 0, 0.15);\n",
       "      filter: drop-shadow(0px 1px 2px rgba(0, 0, 0, 0.3));\n",
       "      fill: #FFFFFF;\n",
       "    }\n",
       "  </style>\n",
       "\n",
       "      <script>\n",
       "        const buttonEl =\n",
       "          document.querySelector('#df-72f8f61c-a28a-4629-981a-bbb0ab0e311a button.colab-df-convert');\n",
       "        buttonEl.style.display =\n",
       "          google.colab.kernel.accessAllowed ? 'block' : 'none';\n",
       "\n",
       "        async function convertToInteractive(key) {\n",
       "          const element = document.querySelector('#df-72f8f61c-a28a-4629-981a-bbb0ab0e311a');\n",
       "          const dataTable =\n",
       "            await google.colab.kernel.invokeFunction('convertToInteractive',\n",
       "                                                     [key], {});\n",
       "          if (!dataTable) return;\n",
       "\n",
       "          const docLinkHtml = 'Like what you see? Visit the ' +\n",
       "            '<a target=\"_blank\" href=https://colab.research.google.com/notebooks/data_table.ipynb>data table notebook</a>'\n",
       "            + ' to learn more about interactive tables.';\n",
       "          element.innerHTML = '';\n",
       "          dataTable['output_type'] = 'display_data';\n",
       "          await google.colab.output.renderOutput(dataTable, element);\n",
       "          const docLink = document.createElement('div');\n",
       "          docLink.innerHTML = docLinkHtml;\n",
       "          element.appendChild(docLink);\n",
       "        }\n",
       "      </script>\n",
       "    </div>\n",
       "  </div>\n",
       "  "
      ],
      "text/plain": [
       "      pair_id  type_id                                type_name  \\\n",
       "0           2        7  Same Polarity Substitution (named ent.)   \n",
       "1           2       25                        Addition/Deletion   \n",
       "2           4        7  Same Polarity Substitution (named ent.)   \n",
       "3           4        7  Same Polarity Substitution (named ent.)   \n",
       "4           4        6  Same Polarity Substitution (contextual)   \n",
       "...       ...      ...                                      ...   \n",
       "3389     5795       25                        Addition/Deletion   \n",
       "3390     5797       25                        Addition/Deletion   \n",
       "3391     5797       25                        Addition/Deletion   \n",
       "3392     5798       30                           Non-paraphrase   \n",
       "3393     5799       25                        Addition/Deletion   \n",
       "\n",
       "     sense_preserving                        s1_scope  \\\n",
       "0                  no                      13, 14, 15   \n",
       "1                  no                            None   \n",
       "2                  no                            8, 9   \n",
       "3                  no                          12, 13   \n",
       "4                  no                      20, 21, 22   \n",
       "...               ...                             ...   \n",
       "3389               no  20, 21, 22, 23, 24, 25, 26, 27   \n",
       "3390               no             0, 1, 2, 3, 4, 5, 6   \n",
       "3391               no                            None   \n",
       "3392               no                  whole sentence   \n",
       "3393               no                            None   \n",
       "\n",
       "                       s2_scope  \\\n",
       "0                    16, 17, 18   \n",
       "1     1, 2, 3, 4, 5, 6, 7, 8, 9   \n",
       "2                          3, 4   \n",
       "3                          7, 8   \n",
       "4                        10, 11   \n",
       "...                         ...   \n",
       "3389                       None   \n",
       "3390                       None   \n",
       "3391                       8, 9   \n",
       "3392             whole sentence   \n",
       "3393         12, 13, 14, 15, 16   \n",
       "\n",
       "                                                s1_text  \\\n",
       "0                                         $ 2.5 billion   \n",
       "1                                                  None   \n",
       "2                                              19 cents   \n",
       "3                                                 4.4 %   \n",
       "4                                    having earlier set   \n",
       "...                                                 ...   \n",
       "3389       as storm clouds threatened to dump more rain   \n",
       "3390         After Hughes refused to rehire Hernandez ,   \n",
       "3391                                               None   \n",
       "3392  There are 103 Democrats in the Assembly and 47...   \n",
       "3393                                               None   \n",
       "\n",
       "                                                s2_text key_s1 key_s2 k1_text  \\\n",
       "0                                         $ 1.8 billion   None   None    None   \n",
       "1          bought Dominick 's in 1995 for $ 693 million   None   None    None   \n",
       "2                                              20 cents   None   None    None   \n",
       "3                                                 4.6 %   None   None    None   \n",
       "4                                                to set   None   None    None   \n",
       "...                                                 ...    ...    ...     ...   \n",
       "3389                                               None   None   None    None   \n",
       "3390                                               None   None   None    None   \n",
       "3391                                           and sued   None   None    None   \n",
       "3392  Democrats dominate the Assembly while Republic...   None   None    None   \n",
       "3393                             , talked of the attack   None   None    None   \n",
       "\n",
       "     k2_text  \n",
       "0       None  \n",
       "1       None  \n",
       "2       None  \n",
       "3       None  \n",
       "4       None  \n",
       "...      ...  \n",
       "3389    None  \n",
       "3390    None  \n",
       "3391    None  \n",
       "3392    None  \n",
       "3393    None  \n",
       "\n",
       "[3394 rows x 12 columns]"
      ]
     },
     "execution_count": 44,
     "metadata": {},
     "output_type": "execute_result"
    }
   ],
   "source": [
    "df"
   ]
  },
  {
   "cell_type": "code",
   "execution_count": 14,
   "id": "bd90cd29",
   "metadata": {
    "id": "vm3WBcS6PbyC"
   },
   "outputs": [
    {
     "name": "stdout",
     "output_type": "stream",
     "text": [
      "(5801, 10)\n"
     ]
    }
   ],
   "source": [
    "with open('text_pairs.xml', 'r') as f:\n",
    "    etpc = f.read().replace(\"\\x12\", \"'\")\n",
    "df = pd.read_xml(etpc)\n",
    "print(df.shape)\n",
    "pd.DataFrame({\n",
    "    'text1': df.sent1_raw,\n",
    "    'text2': df.sent2_raw,\n",
    "    'human': df.etpc_label,\n",
    "}).to_csv('datasets/etpc.csv', index=None)"
   ]
  },
  {
   "cell_type": "markdown",
   "id": "3426437c",
   "metadata": {
    "id": "0gdaoMFsOj8b"
   },
   "source": [
    "### PAWS (wiki)"
   ]
  },
  {
   "cell_type": "code",
   "execution_count": 15,
   "id": "1a174a35",
   "metadata": {
    "colab": {
     "base_uri": "https://localhost:8080/"
    },
    "id": "rHRN-DcpOmGh",
    "outputId": "35de2664-5db6-42ab-bdc9-525a49a7029c"
   },
   "outputs": [
    {
     "name": "stderr",
     "output_type": "stream",
     "text": [
      "--2022-05-04 17:45:41--  https://storage.googleapis.com/paws/english/paws_wiki_labeled_final.tar.gz\n",
      "Resolving storage.googleapis.com (storage.googleapis.com)... 2a00:1450:4010:c0f::80, 2a00:1450:4010:c0d::80, 2a00:1450:4010:c1e::80, ...\n",
      "Connecting to storage.googleapis.com (storage.googleapis.com)|2a00:1450:4010:c0f::80|:443... connected.\n",
      "HTTP request sent, awaiting response... 200 OK\n",
      "Length: 4687157 (4,5M) [application/gzip]\n",
      "Saving to: 'paws_wiki_labeled_final.tar.gz'\n",
      "\n",
      "     0K .......... .......... .......... .......... ..........  1% 1,22M 4s\n",
      "    50K .......... .......... .......... .......... ..........  2% 2,13M 3s\n",
      "   100K .......... .......... .......... .......... ..........  3% 5,25M 2s\n",
      "   150K .......... .......... .......... .......... ..........  4% 5,54M 2s\n",
      "   200K .......... .......... .......... .......... ..........  5% 7,50M 2s\n",
      "   250K .......... .......... .......... .......... ..........  6% 4,64M 1s\n",
      "   300K .......... .......... .......... .......... ..........  7% 5,58M 1s\n",
      "   350K .......... .......... .......... .......... ..........  8% 7,08M 1s\n",
      "   400K .......... .......... .......... .......... ..........  9% 4,64M 1s\n",
      "   450K .......... .......... .......... .......... .......... 10% 6,88M 1s\n",
      "   500K .......... .......... .......... .......... .......... 12% 46,8M 1s\n",
      "   550K .......... .......... .......... .......... .......... 13% 28,7M 1s\n",
      "   600K .......... .......... .......... .......... .......... 14% 5,81M 1s\n",
      "   650K .......... .......... .......... .......... .......... 15% 25,9M 1s\n",
      "   700K .......... .......... .......... .......... .......... 16% 19,1M 1s\n",
      "   750K .......... .......... .......... .......... .......... 17% 7,04M 1s\n",
      "   800K .......... .......... .......... .......... .......... 18% 85,6M 1s\n",
      "   850K .......... .......... .......... .......... .......... 19% 78,5M 1s\n",
      "   900K .......... .......... .......... .......... .......... 20% 41,2M 1s\n",
      "   950K .......... .......... .......... .......... .......... 21% 19,6M 1s\n",
      "  1000K .......... .......... .......... .......... .......... 22% 72,6M 1s\n",
      "  1050K .......... .......... .......... .......... .......... 24% 20,8M 1s\n",
      "  1100K .......... .......... .......... .......... .......... 25% 68,0M 0s\n",
      "  1150K .......... .......... .......... .......... .......... 26% 21,8M 0s\n",
      "  1200K .......... .......... .......... .......... .......... 27% 9,69M 0s\n",
      "  1250K .......... .......... .......... .......... .......... 28%  162M 0s\n",
      "  1300K .......... .......... .......... .......... .......... 29% 6,91M 0s\n",
      "  1350K .......... .......... .......... .......... .......... 30% 58,6M 0s\n",
      "  1400K .......... .......... .......... .......... .......... 31%  387M 0s\n",
      "  1450K .......... .......... .......... .......... .......... 32% 39,6M 0s\n",
      "  1500K .......... .......... .......... .......... .......... 33%  156M 0s\n",
      "  1550K .......... .......... .......... .......... .......... 34% 21,6M 0s\n",
      "  1600K .......... .......... .......... .......... .......... 36%  199M 0s\n",
      "  1650K .......... .......... .......... .......... .......... 37% 24,4M 0s\n",
      "  1700K .......... .......... .......... .......... .......... 38% 63,3M 0s\n",
      "  1750K .......... .......... .......... .......... .......... 39% 54,6M 0s\n",
      "  1800K .......... .......... .......... .......... .......... 40%  391M 0s\n",
      "  1850K .......... .......... .......... .......... .......... 41% 38,2M 0s\n",
      "  1900K .......... .......... .......... .......... .......... 42%  379M 0s\n",
      "  1950K .......... .......... .......... .......... .......... 43% 18,7M 0s\n",
      "  2000K .......... .......... .......... .......... .......... 44%  239M 0s\n",
      "  2050K .......... .......... .......... .......... .......... 45%  126M 0s\n",
      "  2100K .......... .......... .......... .......... .......... 46%  312M 0s\n",
      "  2150K .......... .......... .......... .......... .......... 48% 47,0M 0s\n",
      "  2200K .......... .......... .......... .......... .......... 49% 83,4M 0s\n",
      "  2250K .......... .......... .......... .......... .......... 50% 40,0M 0s\n",
      "  2300K .......... .......... .......... .......... .......... 51%  225M 0s\n",
      "  2350K .......... .......... .......... .......... .......... 52% 37,9M 0s\n",
      "  2400K .......... .......... .......... .......... .......... 53% 62,4M 0s\n",
      "  2450K .......... .......... .......... .......... .......... 54%  408M 0s\n",
      "  2500K .......... .......... .......... .......... .......... 55% 7,70M 0s\n",
      "  2550K .......... .......... .......... .......... .......... 56% 90,8M 0s\n",
      "  2600K .......... .......... .......... .......... .......... 57% 32,8M 0s\n",
      "  2650K .......... .......... .......... .......... .......... 58%  282M 0s\n",
      "  2700K .......... .......... .......... .......... .......... 60% 54,2M 0s\n",
      "  2750K .......... .......... .......... .......... .......... 61% 23,7M 0s\n",
      "  2800K .......... .......... .......... .......... .......... 62%  187M 0s\n",
      "  2850K .......... .......... .......... .......... .......... 63% 99,0M 0s\n",
      "  2900K .......... .......... .......... .......... .......... 64% 39,3M 0s\n",
      "  2950K .......... .......... .......... .......... .......... 65%  182M 0s\n",
      "  3000K .......... .......... .......... .......... .......... 66% 37,3M 0s\n",
      "  3050K .......... .......... .......... .......... .......... 67%  282M 0s\n",
      "  3100K .......... .......... .......... .......... .......... 68% 81,1M 0s\n",
      "  3150K .......... .......... .......... .......... .......... 69% 33,8M 0s\n",
      "  3200K .......... .......... .......... .......... .......... 71%  411M 0s\n",
      "  3250K .......... .......... .......... .......... .......... 72% 11,1M 0s\n",
      "  3300K .......... .......... .......... .......... .......... 73% 42,8M 0s\n",
      "  3350K .......... .......... .......... .......... .......... 74%  161M 0s\n",
      "  3400K .......... .......... .......... .......... .......... 75% 89,1M 0s\n",
      "  3450K .......... .......... .......... .......... .......... 76% 43,1M 0s\n",
      "  3500K .......... .......... .......... .......... .......... 77% 17,6M 0s\n",
      "  3550K .......... .......... .......... .......... .......... 78%  100M 0s\n",
      "  3600K .......... .......... .......... .......... .......... 79%  218M 0s\n",
      "  3650K .......... .......... .......... .......... .......... 80% 42,2M 0s\n",
      "  3700K .......... .......... .......... .......... .......... 81%  159M 0s\n",
      "  3750K .......... .......... .......... .......... .......... 83%  276M 0s\n",
      "  3800K .......... .......... .......... .......... .......... 84%  267M 0s\n",
      "  3850K .......... .......... .......... .......... .......... 85% 31,4M 0s\n",
      "  3900K .......... .......... .......... .......... .......... 86%  395M 0s\n",
      "  3950K .......... .......... .......... .......... .......... 87%  269M 0s\n",
      "  4000K .......... .......... .......... .......... .......... 88% 83,8M 0s\n",
      "  4050K .......... .......... .......... .......... .......... 89% 1,27M 0s\n",
      "  4100K .......... .......... .......... .......... .......... 90% 36,0M 0s\n",
      "  4150K .......... .......... .......... .......... .......... 91%  176M 0s\n",
      "  4200K .......... .......... .......... .......... .......... 92% 32,7M 0s\n",
      "  4250K .......... .......... .......... .......... .......... 93%  191M 0s\n",
      "  4300K .......... .......... .......... .......... .......... 95%  207M 0s\n",
      "  4350K .......... .......... .......... .......... .......... 96%  102M 0s\n",
      "  4400K .......... .......... .......... .......... .......... 97% 30,4M 0s\n",
      "  4450K .......... .......... .......... .......... .......... 98%  162M 0s\n",
      "  4500K .......... .......... .......... .......... .......... 99%  168M 0s\n",
      "  4550K .......... .......... .......                         100%  321M=0,3s\n",
      "\n",
      "2022-05-04 17:45:43 (16,3 MB/s) - 'paws_wiki_labeled_final.tar.gz' saved [4687157/4687157]\n",
      "\n",
      "x final/test.tsv\n",
      "x final/\n",
      "x final/train.tsv\n",
      "x final/dev.tsv\n"
     ]
    }
   ],
   "source": [
    "!wget https://storage.googleapis.com/paws/english/paws_wiki_labeled_final.tar.gz && tar -xvzf paws_wiki_labeled_final.tar.gz"
   ]
  },
  {
   "cell_type": "code",
   "execution_count": 18,
   "id": "e8619eb8",
   "metadata": {
    "id": "SjYJvYvvTsds"
   },
   "outputs": [
    {
     "name": "stdout",
     "output_type": "stream",
     "text": [
      "(8000, 4)\n"
     ]
    }
   ],
   "source": [
    "df = pd.read_csv('final/test.tsv', sep='\\t')\n",
    "print(df.shape)"
   ]
  },
  {
   "cell_type": "code",
   "execution_count": 17,
   "id": "101489ba",
   "metadata": {
    "id": "1ko9NAsdTxac"
   },
   "outputs": [],
   "source": [
    "pd.DataFrame({\n",
    "    'text1': df.sentence1,\n",
    "    'text2': df.sentence2,\n",
    "    'human': df.label,\n",
    "}).to_csv('datasets/paws.csv', index=None)"
   ]
  },
  {
   "cell_type": "markdown",
   "id": "2c6507fd",
   "metadata": {
    "id": "-Cljxf8HT1Ug"
   },
   "source": [
    "### PAWS (QQP)\n",
    "\n",
    "Please follow the instructions from https://github.com/google-research-datasets/paws to re-generate the dataset. "
   ]
  },
  {
   "cell_type": "markdown",
   "id": "8f3de638",
   "metadata": {
    "id": "DbSC800cUw54"
   },
   "source": [
    "### Twitter-URL\n",
    "Please follow the instructions from https://github.com/lanwuwei/Twitter-URL-Corpus to download the dataset."
   ]
  },
  {
   "cell_type": "markdown",
   "id": "90e021af",
   "metadata": {
    "id": "wv_mj02jVBr7"
   },
   "source": [
    "### PIT"
   ]
  },
  {
   "cell_type": "code",
   "execution_count": 19,
   "id": "06e475dc",
   "metadata": {
    "collapsed": true,
    "id": "NYj1WayaVDnE"
   },
   "outputs": [
    {
     "name": "stdout",
     "output_type": "stream",
     "text": [
      "Archive:  SemEval-PIT2015-github.zip\n",
      "   creating: SemEval-PIT2015-github/\n",
      "  inflating: SemEval-PIT2015-github/.DS_Store  \n",
      "   creating: __MACOSX/             \n",
      "   creating: __MACOSX/SemEval-PIT2015-github/\n",
      "  inflating: __MACOSX/SemEval-PIT2015-github/._.DS_Store  \n",
      "   creating: SemEval-PIT2015-github/.git/\n",
      "   creating: SemEval-PIT2015-github/.git/branches/\n",
      "  inflating: SemEval-PIT2015-github/.git/config  \n",
      "  inflating: SemEval-PIT2015-github/.git/description  \n",
      "  inflating: SemEval-PIT2015-github/.git/FETCH_HEAD  \n",
      "  inflating: SemEval-PIT2015-github/.git/HEAD  \n",
      "   creating: SemEval-PIT2015-github/.git/hooks/\n",
      "  inflating: SemEval-PIT2015-github/.git/hooks/applypatch-msg.sample  \n",
      "  inflating: SemEval-PIT2015-github/.git/hooks/commit-msg.sample  \n",
      "  inflating: SemEval-PIT2015-github/.git/hooks/post-update.sample  \n",
      "  inflating: SemEval-PIT2015-github/.git/hooks/pre-applypatch.sample  \n",
      "  inflating: SemEval-PIT2015-github/.git/hooks/pre-commit.sample  \n",
      "  inflating: SemEval-PIT2015-github/.git/hooks/pre-push.sample  \n",
      "  inflating: SemEval-PIT2015-github/.git/hooks/pre-rebase.sample  \n",
      "  inflating: SemEval-PIT2015-github/.git/hooks/prepare-commit-msg.sample  \n",
      "  inflating: SemEval-PIT2015-github/.git/hooks/update.sample  \n",
      "  inflating: SemEval-PIT2015-github/.git/index  \n",
      "   creating: SemEval-PIT2015-github/.git/info/\n",
      "  inflating: SemEval-PIT2015-github/.git/info/exclude  \n",
      "   creating: SemEval-PIT2015-github/.git/logs/\n",
      "  inflating: SemEval-PIT2015-github/.git/logs/HEAD  \n",
      "   creating: SemEval-PIT2015-github/.git/logs/refs/\n",
      "   creating: SemEval-PIT2015-github/.git/logs/refs/heads/\n",
      "  inflating: SemEval-PIT2015-github/.git/logs/refs/heads/master  \n",
      "   creating: SemEval-PIT2015-github/.git/logs/refs/remotes/\n",
      "   creating: SemEval-PIT2015-github/.git/logs/refs/remotes/origin/\n",
      "  inflating: SemEval-PIT2015-github/.git/logs/refs/remotes/origin/HEAD  \n",
      "  inflating: SemEval-PIT2015-github/.git/logs/refs/remotes/origin/master  \n",
      "   creating: SemEval-PIT2015-github/.git/objects/\n",
      "   creating: SemEval-PIT2015-github/.git/objects/14/\n",
      "  inflating: SemEval-PIT2015-github/.git/objects/14/0856ed02d568b4151ebfbce626898126bb6c99  \n",
      "   creating: SemEval-PIT2015-github/.git/objects/2a/\n",
      "  inflating: SemEval-PIT2015-github/.git/objects/2a/25cc6bb7fe6acf92c2aead277efbe680b1445d  \n",
      "   creating: SemEval-PIT2015-github/.git/objects/45/\n",
      "  inflating: SemEval-PIT2015-github/.git/objects/45/77804765dbddb999d4de356ae3bec678d1d8d5  \n",
      "   creating: SemEval-PIT2015-github/.git/objects/79/\n",
      "  inflating: SemEval-PIT2015-github/.git/objects/79/a22aec47cc528aaf7018ce9612567203e8d6af  \n",
      "   creating: SemEval-PIT2015-github/.git/objects/a3/\n",
      "  inflating: SemEval-PIT2015-github/.git/objects/a3/b3d22932a9f4f88a4301559f7768d5b200bf67  \n",
      "   creating: SemEval-PIT2015-github/.git/objects/d9/\n",
      "  inflating: SemEval-PIT2015-github/.git/objects/d9/97ed6877cbb893bcc5db23dc88f3475b9d1035  \n",
      "   creating: SemEval-PIT2015-github/.git/objects/db/\n",
      "  inflating: SemEval-PIT2015-github/.git/objects/db/882d04e95f47771aace5f63fc0b47403a9c83c  \n",
      "   creating: SemEval-PIT2015-github/.git/objects/df/\n",
      "  inflating: SemEval-PIT2015-github/.git/objects/df/52dee150166f2d2944483090428d3634b3ae53  \n",
      "   creating: SemEval-PIT2015-github/.git/objects/e2/\n",
      "  inflating: SemEval-PIT2015-github/.git/objects/e2/367dd1c4719677124aef8942fa75036c0a3662  \n",
      "   creating: SemEval-PIT2015-github/.git/objects/info/\n",
      "   creating: SemEval-PIT2015-github/.git/objects/pack/\n",
      "  inflating: SemEval-PIT2015-github/.git/objects/pack/pack-b61d53953d2f1e5b61e6c5f14ccf798142aabb08.idx  \n",
      "  inflating: SemEval-PIT2015-github/.git/objects/pack/pack-b61d53953d2f1e5b61e6c5f14ccf798142aabb08.pack  \n",
      "  inflating: SemEval-PIT2015-github/.git/ORIG_HEAD  \n",
      "  inflating: SemEval-PIT2015-github/.git/packed-refs  \n",
      "   creating: SemEval-PIT2015-github/.git/refs/\n",
      "   creating: SemEval-PIT2015-github/.git/refs/heads/\n",
      "  inflating: SemEval-PIT2015-github/.git/refs/heads/master  \n",
      "   creating: SemEval-PIT2015-github/.git/refs/remotes/\n",
      "   creating: SemEval-PIT2015-github/.git/refs/remotes/origin/\n",
      "  inflating: SemEval-PIT2015-github/.git/refs/remotes/origin/HEAD  \n",
      "  inflating: SemEval-PIT2015-github/.git/refs/remotes/origin/master  \n",
      "   creating: SemEval-PIT2015-github/.git/refs/tags/\n",
      "   creating: SemEval-PIT2015-github/data/\n",
      "  inflating: SemEval-PIT2015-github/data/dev.data  \n",
      "  inflating: SemEval-PIT2015-github/data/test.data  \n",
      "  inflating: SemEval-PIT2015-github/data/test.label  \n",
      "  inflating: SemEval-PIT2015-github/data/train.data  \n",
      "   creating: SemEval-PIT2015-github/papers/\n",
      "  inflating: SemEval-PIT2015-github/papers/semeval_pit_2015_overview.pdf  \n",
      "  inflating: SemEval-PIT2015-github/papers/tacl2014-extracting-paraphrases-from-twitter.pdf  \n",
      "  inflating: SemEval-PIT2015-github/papers/thesis-wei.pdf  \n",
      "  inflating: SemEval-PIT2015-github/README.md  \n",
      "  inflating: __MACOSX/SemEval-PIT2015-github/._README.md  \n",
      "   creating: SemEval-PIT2015-github/scripts/\n",
      "  inflating: SemEval-PIT2015-github/scripts/.DS_Store  \n",
      "   creating: __MACOSX/SemEval-PIT2015-github/scripts/\n",
      "  inflating: __MACOSX/SemEval-PIT2015-github/scripts/._.DS_Store  \n",
      "  inflating: SemEval-PIT2015-github/scripts/baseline_logisticregression.model  \n",
      "  inflating: SemEval-PIT2015-github/scripts/baseline_logisticregression.py  \n",
      "  inflating: __MACOSX/SemEval-PIT2015-github/scripts/._baseline_logisticregression.py  \n",
      "  inflating: SemEval-PIT2015-github/scripts/baseline_random.py  \n",
      "  inflating: __MACOSX/SemEval-PIT2015-github/scripts/._baseline_random.py  \n",
      "  inflating: SemEval-PIT2015-github/scripts/pit2015_checkformat.py  \n",
      "  inflating: SemEval-PIT2015-github/scripts/pit2015_checkformat.pyc  \n",
      "  inflating: SemEval-PIT2015-github/scripts/pit2015_eval_single.py  \n",
      "   creating: SemEval-PIT2015-github/systemoutputs/\n",
      "  inflating: SemEval-PIT2015-github/systemoutputs/PIT2015_BASELINE_01_random.output  \n",
      "  inflating: SemEval-PIT2015-github/systemoutputs/PIT2015_BASELINE_02_LG.output  \n",
      "  inflating: SemEval-PIT2015-github/systemoutputs/PIT2015_BASELINE_03_WTMF.output  \n",
      "  inflating: SemEval-PIT2015-github/systemoutputs/PIT2015_BASELINE_04_MultiP.output  \n"
     ]
    },
    {
     "name": "stderr",
     "output_type": "stream",
     "text": [
      "--2022-05-04 17:45:59--  https://github.com/cocoxu/SemEval-PIT2015/blob/master/data/SemEval-PIT2015-github.zip?raw=true\n",
      "Resolving github.com (github.com)... 140.82.121.4\n",
      "Connecting to github.com (github.com)|140.82.121.4|:443... connected.\n",
      "HTTP request sent, awaiting response... 302 Found\n",
      "Location: https://github.com/cocoxu/SemEval-PIT2015/raw/master/data/SemEval-PIT2015-github.zip [following]\n",
      "--2022-05-04 17:45:59--  https://github.com/cocoxu/SemEval-PIT2015/raw/master/data/SemEval-PIT2015-github.zip\n",
      "Reusing existing connection to github.com:443.\n",
      "HTTP request sent, awaiting response... 302 Found\n",
      "Location: https://raw.githubusercontent.com/cocoxu/SemEval-PIT2015/master/data/SemEval-PIT2015-github.zip [following]\n",
      "--2022-05-04 17:46:00--  https://raw.githubusercontent.com/cocoxu/SemEval-PIT2015/master/data/SemEval-PIT2015-github.zip\n",
      "Resolving raw.githubusercontent.com (raw.githubusercontent.com)... 2606:50c0:8000::154, 2606:50c0:8001::154, 2606:50c0:8003::154, ...\n",
      "Connecting to raw.githubusercontent.com (raw.githubusercontent.com)|2606:50c0:8000::154|:443... connected.\n",
      "HTTP request sent, awaiting response... 200 OK\n",
      "Length: 4259981 (4,1M) [application/zip]\n",
      "Saving to: 'SemEval-PIT2015-github.zip'\n",
      "\n",
      "     0K .......... .......... .......... .......... ..........  1% 1,10M 4s\n",
      "    50K .......... .......... .......... .......... ..........  2% 4,06M 2s\n",
      "   100K .......... .......... .......... .......... ..........  3% 1,83M 2s\n",
      "   150K .......... .......... .......... .......... ..........  4% 6,04M 2s\n",
      "   200K .......... .......... .......... .......... ..........  6% 2,04M 2s\n",
      "   250K .......... .......... .......... .......... ..........  7% 4,66M 2s\n",
      "   300K .......... .......... .......... .......... ..........  8% 6,63M 1s\n",
      "   350K .......... .......... .......... .......... ..........  9% 1,73M 2s\n",
      "   400K .......... .......... .......... .......... .......... 10% 7,98M 1s\n",
      "   450K .......... .......... .......... .......... .......... 12% 17,8M 1s\n",
      "   500K .......... .......... .......... .......... .......... 13% 12,6M 1s\n",
      "   550K .......... .......... .......... .......... .......... 14% 14,0M 1s\n",
      "   600K .......... .......... .......... .......... .......... 15% 2,80M 1s\n",
      "   650K .......... .......... .......... .......... .......... 16% 16,1M 1s\n",
      "   700K .......... .......... .......... .......... .......... 18% 16,4M 1s\n",
      "   750K .......... .......... .......... .......... .......... 19% 30,6M 1s\n",
      "   800K .......... .......... .......... .......... .......... 20% 10,1M 1s\n",
      "   850K .......... .......... .......... .......... .......... 21% 14,1M 1s\n",
      "   900K .......... .......... .......... .......... .......... 22% 37,9M 1s\n",
      "   950K .......... .......... .......... .......... .......... 24% 24,8M 1s\n",
      "  1000K .......... .......... .......... .......... .......... 25% 26,7M 1s\n",
      "  1050K .......... .......... .......... .......... .......... 26% 42,9M 1s\n",
      "  1100K .......... .......... .......... .......... .......... 27% 28,3M 1s\n",
      "  1150K .......... .......... .......... .......... .......... 28% 4,22M 1s\n",
      "  1200K .......... .......... .......... .......... .......... 30% 12,0M 1s\n",
      "  1250K .......... .......... .......... .......... .......... 31% 40,9M 1s\n",
      "  1300K .......... .......... .......... .......... .......... 32% 49,7M 0s\n",
      "  1350K .......... .......... .......... .......... .......... 33% 20,5M 0s\n",
      "  1400K .......... .......... .......... .......... .......... 34% 32,6M 0s\n",
      "  1450K .......... .......... .......... .......... .......... 36% 51,5M 0s\n",
      "  1500K .......... .......... .......... .......... .......... 37% 13,2M 0s\n",
      "  1550K .......... .......... .......... .......... .......... 38%  104M 0s\n",
      "  1600K .......... .......... .......... .......... .......... 39% 15,6M 0s\n",
      "  1650K .......... .......... .......... .......... .......... 40%  106M 0s\n",
      "  1700K .......... .......... .......... .......... .......... 42% 50,4M 0s\n",
      "  1750K .......... .......... .......... .......... .......... 43% 86,6M 0s\n",
      "  1800K .......... .......... .......... .......... .......... 44% 29,2M 0s\n",
      "  1850K .......... .......... .......... .......... .......... 45%  181M 0s\n",
      "  1900K .......... .......... .......... .......... .......... 46% 26,3M 0s\n",
      "  1950K .......... .......... .......... .......... .......... 48%  191M 0s\n",
      "  2000K .......... .......... .......... .......... .......... 49% 55,8M 0s\n",
      "  2050K .......... .......... .......... .......... .......... 50% 42,3M 0s\n",
      "  2100K .......... .......... .......... .......... .......... 51% 74,3M 0s\n",
      "  2150K .......... .......... .......... .......... .......... 52% 28,5M 0s\n",
      "  2200K .......... .......... .......... .......... .......... 54%  235M 0s\n",
      "  2250K .......... .......... .......... .......... .......... 55% 5,25M 0s\n",
      "  2300K .......... .......... .......... .......... .......... 56% 14,2M 0s\n",
      "  2350K .......... .......... .......... .......... .......... 57% 6,32M 0s\n",
      "  2400K .......... .......... .......... .......... .......... 58%  174M 0s\n",
      "  2450K .......... .......... .......... .......... .......... 60%  119M 0s\n",
      "  2500K .......... .......... .......... .......... .......... 61%  267M 0s\n",
      "  2550K .......... .......... .......... .......... .......... 62%  213M 0s\n",
      "  2600K .......... .......... .......... .......... .......... 63%  212M 0s\n",
      "  2650K .......... .......... .......... .......... .......... 64%  282M 0s\n",
      "  2700K .......... .......... .......... .......... .......... 66%  191M 0s\n",
      "  2750K .......... .......... .......... .......... .......... 67% 48,0M 0s\n",
      "  2800K .......... .......... .......... .......... .......... 68%  147M 0s\n",
      "  2850K .......... .......... .......... .......... .......... 69%  214M 0s\n",
      "  2900K .......... .......... .......... .......... .......... 70%  275M 0s\n",
      "  2950K .......... .......... .......... .......... .......... 72% 27,4M 0s\n",
      "  3000K .......... .......... .......... .......... .......... 73% 63,0M 0s\n",
      "  3050K .......... .......... .......... .......... .......... 74% 64,6M 0s\n",
      "  3100K .......... .......... .......... .......... .......... 75% 17,7M 0s\n",
      "  3150K .......... .......... .......... .......... .......... 76% 47,3M 0s\n",
      "  3200K .......... .......... .......... .......... .......... 78%  186M 0s\n",
      "  3250K .......... .......... .......... .......... .......... 79% 89,0M 0s\n",
      "  3300K .......... .......... .......... .......... .......... 80% 32,1M 0s\n",
      "  3350K .......... .......... .......... .......... .......... 81%  179M 0s\n",
      "  3400K .......... .......... .......... .......... .......... 82%  254M 0s\n",
      "  3450K .......... .......... .......... .......... .......... 84% 35,1M 0s\n",
      "  3500K .......... .......... .......... .......... .......... 85%  175M 0s\n",
      "  3550K .......... .......... .......... .......... .......... 86% 32,5M 0s\n",
      "  3600K .......... .......... .......... .......... .......... 87%  267M 0s\n",
      "  3650K .......... .......... .......... .......... .......... 88%  166M 0s\n",
      "  3700K .......... .......... .......... .......... .......... 90%  155M 0s\n",
      "  3750K .......... .......... .......... .......... .......... 91% 72,7M 0s\n",
      "  3800K .......... .......... .......... .......... .......... 92% 40,9M 0s\n",
      "  3850K .......... .......... .......... .......... .......... 93% 30,2M 0s\n",
      "  3900K .......... .......... .......... .......... .......... 94%  169M 0s\n",
      "  3950K .......... .......... .......... .......... .......... 96%  135M 0s\n",
      "  4000K .......... .......... .......... .......... .......... 97%  201M 0s\n",
      "  4050K .......... .......... .......... .......... .......... 98% 34,4M 0s\n",
      "  4100K .......... .......... .......... .......... .......... 99%  260M 0s\n",
      "  4150K ..........                                            100%  756M=0,3s\n",
      "\n",
      "2022-05-04 17:46:01 (13,4 MB/s) - 'SemEval-PIT2015-github.zip' saved [4259981/4259981]\n",
      "\n"
     ]
    }
   ],
   "source": [
    "!wget https://github.com/cocoxu/SemEval-PIT2015/blob/master/data/SemEval-PIT2015-github.zip?raw=true --content-disposition && unzip \"SemEval-PIT2015-github.zip\""
   ]
  },
  {
   "cell_type": "code",
   "execution_count": 21,
   "id": "0576069c",
   "metadata": {
    "id": "9H5RbLrZVU1B"
   },
   "outputs": [],
   "source": [
    "pit = pd.read_csv('SemEval-PIT2015-github/data/test.data', sep='\\t', header=None, quoting=csv.QUOTE_NONE)\n",
    "pit.columns = ' Topic_Id | Topic_Name | Sent_1 | Sent_2 | Label | Sent_1_tag | Sent_2_tag'.strip().split(' | ')"
   ]
  },
  {
   "cell_type": "code",
   "execution_count": 22,
   "id": "e229da1b",
   "metadata": {
    "id": "qaVOzxeCWBZK"
   },
   "outputs": [],
   "source": [
    "pd.DataFrame({\n",
    "    'text1': pit.Sent_1,\n",
    "    'text2': pit.Sent_2,\n",
    "    'human': pit.Label,\n",
    "}).to_csv('datasets/pit.csv', index=None)"
   ]
  },
  {
   "cell_type": "code",
   "execution_count": 23,
   "id": "dbab3662",
   "metadata": {
    "colab": {
     "base_uri": "https://localhost:8080/"
    },
    "id": "dneQ-rlbYATx",
    "outputId": "a70f3586-4504-4e10-aa88-2e89a7c60f01"
   },
   "outputs": [
    {
     "data": {
      "text/plain": [
       "(972, 7)"
      ]
     },
     "execution_count": 23,
     "metadata": {},
     "output_type": "execute_result"
    }
   ],
   "source": [
    "pit.shape"
   ]
  },
  {
   "cell_type": "markdown",
   "id": "b725f215",
   "metadata": {
    "id": "YanLm4rRV-VR"
   },
   "source": [
    "### MSRPC"
   ]
  },
  {
   "cell_type": "code",
   "execution_count": 25,
   "id": "e1f10e50",
   "metadata": {
    "id": "uG_XKz-5ZBQK"
   },
   "outputs": [
    {
     "name": "stdout",
     "output_type": "stream",
     "text": [
      "(1725, 5)\n"
     ]
    }
   ],
   "source": [
    "# This was the old and incorrect way we loaded the dataset\n",
    "# df = pd.read_csv(\"https://raw.githubusercontent.com/brmson/dataset-sts/master/data/para/msr/msr-para-test.tsv\", error_bad_lines=False,sep = '\\t')\n",
    "# df.dropna(subset = ['#1 String', '#2 String', 'Quality'], inplace = True)\n",
    "df = pd.read_csv('https://raw.githubusercontent.com/brmson/dataset-sts/master/data/para/msr/msr-para-test.tsv', sep='\\t', quoting=csv.QUOTE_NONE)\n",
    "print(df.shape)"
   ]
  },
  {
   "cell_type": "code",
   "execution_count": 26,
   "id": "9910d52e",
   "metadata": {
    "id": "t3PDNh0TZf0l"
   },
   "outputs": [],
   "source": [
    "pd.DataFrame({\n",
    "    'text1': df['#1 String'],\n",
    "    'text2': df['#2 String'],\n",
    "    'human': df.Quality,\n",
    "}).to_csv('datasets/msr.csv', index=None)"
   ]
  },
  {
   "cell_type": "markdown",
   "id": "c9b066ff",
   "metadata": {
    "id": "btgXAwGlZNEU"
   },
   "source": [
    "### SICK"
   ]
  },
  {
   "cell_type": "code",
   "execution_count": 27,
   "id": "6fd9f59e",
   "metadata": {
    "colab": {
     "base_uri": "https://localhost:8080/"
    },
    "id": "zOBdqoKUaEpU",
    "outputId": "8663ef3b-b338-469e-c517-01e0e1d2fcd1"
   },
   "outputs": [
    {
     "name": "stdout",
     "output_type": "stream",
     "text": [
      "(4927, 5)\n"
     ]
    }
   ],
   "source": [
    "df = pd.read_csv('https://raw.githubusercontent.com/brmson/dataset-sts/master/data/sts/sick2014/SICK_test_annotated.txt', sep='\\t')\n",
    "print(df.shape)"
   ]
  },
  {
   "cell_type": "code",
   "execution_count": 28,
   "id": "ecb9a5e2",
   "metadata": {
    "id": "NPG73DgMaHs3"
   },
   "outputs": [],
   "source": [
    "pd.DataFrame({\n",
    "    'text1': df.sentence_A,\n",
    "    'text2': df.sentence_B,\n",
    "    'human': df.relatedness_score,\n",
    "}).to_csv('datasets/sick.csv', index=None)"
   ]
  },
  {
   "cell_type": "markdown",
   "id": "76702f8d",
   "metadata": {
    "id": "DXjnBIXgcFD-"
   },
   "source": [
    "### Tox600"
   ]
  },
  {
   "cell_type": "code",
   "execution_count": 29,
   "id": "91c830fd",
   "metadata": {
    "id": "u0KWHrqwcFuk"
   },
   "outputs": [],
   "source": [
    "df = pd.read_csv('https://raw.githubusercontent.com/skoltech-nlp/detox/main/emnlp2021/data/manual_markup/emnlp_eval_mean.tsv', sep='\\t')"
   ]
  },
  {
   "cell_type": "code",
   "execution_count": 30,
   "id": "39d07111",
   "metadata": {
    "id": "6zDBG9fMcPXo"
   },
   "outputs": [],
   "source": [
    "pd.DataFrame({\n",
    "    'text1': df.original,\n",
    "    'text2': df.rewritten,\n",
    "    'human': df.meaning,\n",
    "}).to_csv('datasets/tox600.csv', index=None)"
   ]
  },
  {
   "cell_type": "markdown",
   "id": "97f997c4",
   "metadata": {
    "id": "CtrsK92mbgWq"
   },
   "source": [
    "### STRAP\n"
   ]
  },
  {
   "cell_type": "code",
   "execution_count": 32,
   "id": "1074c21d",
   "metadata": {
    "colab": {
     "base_uri": "https://localhost:8080/"
    },
    "id": "OKeYr8nCeYvD",
    "outputId": "3fa78020-5446-48c2-c96d-0665374eab30"
   },
   "outputs": [
    {
     "name": "stderr",
     "output_type": "stream",
     "text": [
      "Cloning into 'style-transfer-paraphrase'...\n"
     ]
    }
   ],
   "source": [
    "!git clone https://github.com/martiansideofthemoon/style-transfer-paraphrase"
   ]
  },
  {
   "cell_type": "code",
   "execution_count": 33,
   "id": "e4448259",
   "metadata": {
    "id": "mTiZlmaiducg"
   },
   "outputs": [],
   "source": [
    "STRAP_DATA_ROOT = 'style-transfer-paraphrase/mturk_evals/'\n",
    "STRAP_LABELS = {\n",
    "    'approximately the same meaning and the rewritten sentence is grammatical': 1,\n",
    "    'approximately the same meaning, but the rewritten sentence is ungrammatical': 1,\n",
    "    'no paraphrase relationship': 0,\n",
    "}"
   ]
  },
  {
   "cell_type": "code",
   "execution_count": 34,
   "id": "62522e89",
   "metadata": {
    "colab": {
     "base_uri": "https://localhost:8080/"
    },
    "id": "fEfKbwXGd1S3",
    "outputId": "f409079f-13bf-4489-878d-1ccaf15af255"
   },
   "outputs": [
    {
     "data": {
      "text/plain": [
       "(100, 3)"
      ]
     },
     "execution_count": 34,
     "metadata": {},
     "output_type": "execute_result"
    }
   ],
   "source": [
    "coha = pd.read_csv(STRAP_DATA_ROOT + 'coha_1990s-2000s_original_vs_paraphrase_250/Batch_4025612_batch_results.csv')\n",
    "coha_mean = coha.groupby(['Input.text1', 'Input.text2'])['Answer.semantic-similarity.label'].aggregate(\n",
    "    lambda x: np.mean([STRAP_LABELS[y] for y in x])\n",
    ").reset_index()\n",
    "coha_mean.columns = ['text1', 'text2', 'human']\n",
    "coha_mean.shape"
   ]
  },
  {
   "cell_type": "code",
   "execution_count": 35,
   "id": "ff09ad89",
   "metadata": {
    "id": "piw-kHFHeE_b"
   },
   "outputs": [],
   "source": [
    "coha_mean.to_csv('datasets/STRAP_COHA.csv', index=None)"
   ]
  },
  {
   "cell_type": "code",
   "execution_count": 36,
   "id": "3d36f545",
   "metadata": {
    "id": "e2Y7ihk-eHmd"
   },
   "outputs": [],
   "source": [
    "tables = []\n",
    "for dirname, system_name in {\n",
    "    'formality_gold_vs_generated_baseline_he_2020': 'he_2020',\n",
    "    'formality_gold_vs_generated_baseline_unmt': 'unmt',\n",
    "    'formality_gold_vs_generated_single_nucleus_paraphrase': 'paraphrase_base',\n",
    "    'formality_gold_vs_generated_single_nucleus_paraphrase_0.0': 'paraphrase_0.0',\n",
    "    'formality_gold_vs_generated_single_nucleus_paraphrase_0.9': 'paraphrase_0.9',\n",
    "}.items():\n",
    "    for fname in os.listdir(STRAP_DATA_ROOT+dirname):\n",
    "        if fname.endswith('batch_results.csv'):\n",
    "            df = pd.read_csv(STRAP_DATA_ROOT +dirname + '/' + fname)\n",
    "            tables.append(pd.DataFrame({\n",
    "                'text1': df['Input.text1'],\n",
    "                'text2': df['Input.text2'],\n",
    "                'filename': fname,\n",
    "                'system': system_name,\n",
    "                'score': df['Answer.semantic-similarity.label'].apply(lambda x: STRAP_LABELS[x])\n",
    "            }))\n",
    "formality_raw = pd.concat(tables)"
   ]
  },
  {
   "cell_type": "code",
   "execution_count": 37,
   "id": "e271dbbc",
   "metadata": {
    "colab": {
     "base_uri": "https://localhost:8080/"
    },
    "id": "pZvwBuLKeP2Y",
    "outputId": "0ca502f4-a76e-4a8c-fbf6-8961018c7ac2"
   },
   "outputs": [
    {
     "data": {
      "text/plain": [
       "(684, 5)"
      ]
     },
     "execution_count": 37,
     "metadata": {},
     "output_type": "execute_result"
    }
   ],
   "source": [
    "formality_agg = formality_raw.groupby(['system', 'text1', 'text2']).score.aggregate([len, np.mean])\n",
    "formality_agg.columns = ['n_scores', 'mean_score']\n",
    "formality_agg.reset_index(inplace=True)\n",
    "formality_agg.shape"
   ]
  },
  {
   "cell_type": "code",
   "execution_count": 38,
   "id": "3d63a527",
   "metadata": {
    "id": "27icM0iCepEP"
   },
   "outputs": [],
   "source": [
    "pd.DataFrame({\n",
    "    'text1': formality_agg.text1,\n",
    "    'text2': formality_agg.text2,\n",
    "    'human': formality_agg.mean_score,\n",
    "}).to_csv('datasets/STRAP_formality.csv', index=None)"
   ]
  },
  {
   "cell_type": "code",
   "execution_count": 39,
   "id": "fbcb1b3e",
   "metadata": {
    "id": "VFdQLF5fe5H2"
   },
   "outputs": [],
   "source": [
    "tables = []\n",
    "for dirname, system_name in {\n",
    "    'shakespeare_gold_vs_generated_baseline_he_2020': 'he_2020',\n",
    "    'shakespeare_gold_vs_generated_baseline_unmt': 'unmt',\n",
    "    'shakespeare_gold_vs_generated_single_model_nucleus_paraphrase': 'paraphrase_base',\n",
    "    'shakespeare_gold_vs_generated_single_nucleus_paraphrase_0.0': 'paraphrase_0.0',\n",
    "}.items():\n",
    "    for fname in os.listdir(STRAP_DATA_ROOT+dirname):\n",
    "        if fname.endswith('batch_results.csv'):\n",
    "            df = pd.read_csv(STRAP_DATA_ROOT +dirname + '/' + fname)\n",
    "            tables.append(pd.DataFrame({\n",
    "                'text1': df['Input.text1'],\n",
    "                'text2': df['Input.text2'],\n",
    "                'filename': fname,\n",
    "                'system': system_name,\n",
    "                'score': df['Answer.semantic-similarity.label'].apply(lambda x: STRAP_LABELS[x])\n",
    "            }))\n",
    "shakespeare_raw = pd.concat(tables)"
   ]
  },
  {
   "cell_type": "code",
   "execution_count": 40,
   "id": "ae07d28e",
   "metadata": {
    "colab": {
     "base_uri": "https://localhost:8080/"
    },
    "id": "lnFYmEIJe8Gr",
    "outputId": "7220cd52-4d37-404c-d4b4-a215faeabc97"
   },
   "outputs": [
    {
     "data": {
      "text/plain": [
       "(550, 5)"
      ]
     },
     "execution_count": 40,
     "metadata": {},
     "output_type": "execute_result"
    }
   ],
   "source": [
    "shakespeare_agg = shakespeare_raw.groupby(['system', 'text1', 'text2']).score.aggregate([len, np.mean])\n",
    "shakespeare_agg.columns = ['n_scores', 'mean_score']\n",
    "shakespeare_agg.reset_index(inplace=True)\n",
    "shakespeare_agg.index.name = 'idx'\n",
    "shakespeare_agg.shape"
   ]
  },
  {
   "cell_type": "code",
   "execution_count": 41,
   "id": "f01315fe",
   "metadata": {
    "id": "uPdQPRC3e9fM"
   },
   "outputs": [],
   "source": [
    "pd.DataFrame({\n",
    "    'text1': shakespeare_agg.text1,\n",
    "    'text2': shakespeare_agg.text2,\n",
    "    'human': shakespeare_agg.mean_score,\n",
    "}).to_csv('datasets/STRAP_shakespeare.csv', index=None)"
   ]
  },
  {
   "cell_type": "markdown",
   "id": "c08e0836",
   "metadata": {},
   "source": [
    "### xformal-FoST \n",
    "\n",
    "Please follow the instructions from https://github.com/Elbria/xformal-FoST-meta/tree/master/meta-evaluation-files to obtain the dataset. "
   ]
  },
  {
   "cell_type": "markdown",
   "id": "48e52168",
   "metadata": {},
   "source": [
    "## PG-YELP"
   ]
  },
  {
   "cell_type": "markdown",
   "id": "579a4fd6",
   "metadata": {},
   "source": [
    "The original dataset is a result of side-by-side comparison, and therefore the labels are pairwise. \n",
    "\n",
    "The details are provided in the paper [Unsupervised Evaluation Metrics and Learning Criteria for Non-Parallel Textual Transfer](https://aclanthology.org/D19-5614/) by Pang and Gimpel, 2019. \n",
    "\n",
    "We use the http://choix.lum.li/en/latest/ package to obtain individual scores from the comparisons."
   ]
  },
  {
   "cell_type": "code",
   "execution_count": 51,
   "id": "576f523f",
   "metadata": {},
   "outputs": [],
   "source": [
    "import choix\n",
    "import scipy.stats"
   ]
  },
  {
   "cell_type": "code",
   "execution_count": 42,
   "id": "1076974f",
   "metadata": {},
   "outputs": [
    {
     "name": "stdout",
     "output_type": "stream",
     "text": [
      "(649, 9)\n"
     ]
    }
   ],
   "source": [
    "p = 'source_data/textual-transfer-pairwise-comparison/'\n",
    "\n",
    "dfs = pd.concat([\n",
    "    pd.read_json(p + f, lines=True)\n",
    "    for f in os.listdir(p)\n",
    "    if f.endswith('jsonl')\n",
    "])\n",
    "print(dfs.shape)"
   ]
  },
  {
   "cell_type": "code",
   "execution_count": 43,
   "id": "125f4135",
   "metadata": {},
   "outputs": [
    {
     "name": "stdout",
     "output_type": "stream",
     "text": [
      "1296\n"
     ]
    }
   ],
   "source": [
    "unpaired = []\n",
    "for i, row in dfs.iterrows():\n",
    "    if row.content_better == 1:\n",
    "        scores = [1, 0]\n",
    "    elif row.content_better == 2:\n",
    "        scores = [0, 1]\n",
    "    else:\n",
    "        scores = [0.5, 0.5]\n",
    "    for score, text, model in zip(scores, [row.sent1, row.sent2], [row.model1, row.model2]):\n",
    "        unpaired.append({'pair_id': i, 'original': row.ori_sent, 'rewritten': text, 'score': score, 'model': model, 'style': row.ori_style})\n",
    "unpaired = pd.DataFrame(unpaired).dropna()\n",
    "print(len(unpaired))"
   ]
  },
  {
   "cell_type": "code",
   "execution_count": 44,
   "id": "47940ea7",
   "metadata": {},
   "outputs": [
    {
     "name": "stdout",
     "output_type": "stream",
     "text": [
      "848\n"
     ]
    }
   ],
   "source": [
    "all_outputs = sorted({(row.original, row.rewritten) for i, row in unpaired.iterrows()})\n",
    "print(len(all_outputs))"
   ]
  },
  {
   "cell_type": "code",
   "execution_count": 45,
   "id": "96f9d007",
   "metadata": {},
   "outputs": [],
   "source": [
    "id_pairs = []\n",
    "for i, row in dfs.iterrows():\n",
    "    if row.ori_sent is None:\n",
    "        continue\n",
    "    idx1 = all_outputs.index((row.ori_sent, row.sent1))\n",
    "    idx2 = all_outputs.index((row.ori_sent, row.sent2))\n",
    "    if row.content_better == 1:\n",
    "        id_pairs.append([idx1, idx2])\n",
    "        id_pairs.append([idx1, idx2])\n",
    "    elif row.content_better == 2:\n",
    "        id_pairs.append([idx2, idx1])\n",
    "        id_pairs.append([idx2, idx1])\n",
    "    else:\n",
    "        id_pairs.append([idx1, idx2])\n",
    "        id_pairs.append([idx2, idx1])"
   ]
  },
  {
   "cell_type": "code",
   "execution_count": 48,
   "id": "7382be1e",
   "metadata": {},
   "outputs": [],
   "source": [
    "rankings = choix.lsr_pairwise(len(all_outputs), id_pairs, alpha=0.1)"
   ]
  },
  {
   "cell_type": "code",
   "execution_count": 49,
   "id": "deacc76a",
   "metadata": {},
   "outputs": [
    {
     "data": {
      "text/plain": [
       "<AxesSubplot:>"
      ]
     },
     "execution_count": 49,
     "metadata": {},
     "output_type": "execute_result"
    },
    {
     "data": {
      "image/png": "[encoded data removed]",
      "text/plain": [
       "<Figure size 432x288 with 1 Axes>"
      ]
     },
     "metadata": {
      "needs_background": "light"
     },
     "output_type": "display_data"
    }
   ],
   "source": [
    "pd.Series(sorted(rankings)).plot()"
   ]
  },
  {
   "cell_type": "code",
   "execution_count": 52,
   "id": "172ad646",
   "metadata": {},
   "outputs": [],
   "source": [
    "r2 = scipy.stats.rankdata((rankings / (rankings.std() * 0.1)).round(0), method='dense')"
   ]
  },
  {
   "cell_type": "code",
   "execution_count": 54,
   "id": "b3a3f786",
   "metadata": {},
   "outputs": [
    {
     "data": {
      "text/plain": [
       "1     29\n",
       "2    184\n",
       "3    427\n",
       "4    174\n",
       "5     34\n",
       "dtype: int64"
      ]
     },
     "execution_count": 54,
     "metadata": {},
     "output_type": "execute_result"
    }
   ],
   "source": [
    "pd.Series(r2).value_counts().sort_index()"
   ]
  },
  {
   "cell_type": "code",
   "execution_count": 53,
   "id": "44a33279",
   "metadata": {},
   "outputs": [],
   "source": [
    "unpaired['ranking_score'] = [r2[all_outputs.index((row.original, row.rewritten))] for i, row in unpaired.iterrows()]"
   ]
  },
  {
   "cell_type": "code",
   "execution_count": 55,
   "id": "85d9fe64",
   "metadata": {},
   "outputs": [
    {
     "data": {
      "text/plain": [
       "(886, 7)"
      ]
     },
     "execution_count": 55,
     "metadata": {},
     "output_type": "execute_result"
    }
   ],
   "source": [
    "unpaired_dedup = unpaired.groupby(['original', 'rewritten', 'model', 'style', 'ranking_score']).first().reset_index()\n",
    "unpaired_dedup.shape"
   ]
  },
  {
   "cell_type": "code",
   "execution_count": 56,
   "id": "74e2574b",
   "metadata": {},
   "outputs": [
    {
     "data": {
      "text/html": [
       "<div>\n",
       "<style scoped>\n",
       "    .dataframe tbody tr th:only-of-type {\n",
       "        vertical-align: middle;\n",
       "    }\n",
       "\n",
       "    .dataframe tbody tr th {\n",
       "        vertical-align: top;\n",
       "    }\n",
       "\n",
       "    .dataframe thead th {\n",
       "        text-align: right;\n",
       "    }\n",
       "</style>\n",
       "<table border=\"1\" class=\"dataframe\">\n",
       "  <thead>\n",
       "    <tr style=\"text-align: right;\">\n",
       "      <th></th>\n",
       "      <th>original</th>\n",
       "      <th>rewritten</th>\n",
       "      <th>model</th>\n",
       "      <th>style</th>\n",
       "      <th>ranking_score</th>\n",
       "      <th>pair_id</th>\n",
       "      <th>score</th>\n",
       "    </tr>\n",
       "  </thead>\n",
       "  <tbody>\n",
       "    <tr>\n",
       "      <th>0</th>\n",
       "      <td>$ _num_ for a soda ?</td>\n",
       "      <td>$ _num_ for a !</td>\n",
       "      <td>m0</td>\n",
       "      <td>0</td>\n",
       "      <td>2</td>\n",
       "      <td>18</td>\n",
       "      <td>0.5</td>\n",
       "    </tr>\n",
       "    <tr>\n",
       "      <th>1</th>\n",
       "      <td>$ _num_ for a soda ?</td>\n",
       "      <td>$ _num_ for a beer !</td>\n",
       "      <td>m7</td>\n",
       "      <td>0</td>\n",
       "      <td>4</td>\n",
       "      <td>18</td>\n",
       "      <td>1.0</td>\n",
       "    </tr>\n",
       "    <tr>\n",
       "      <th>2</th>\n",
       "      <td>$ _num_ for a soda ?</td>\n",
       "      <td>$ _num_ for a plus ?</td>\n",
       "      <td>m2</td>\n",
       "      <td>0</td>\n",
       "      <td>3</td>\n",
       "      <td>18</td>\n",
       "      <td>0.5</td>\n",
       "    </tr>\n",
       "    <tr>\n",
       "      <th>3</th>\n",
       "      <td>( okay not confident in your product knowledge...</td>\n",
       "      <td>( good always quality in your work work too .</td>\n",
       "      <td>m7</td>\n",
       "      <td>0</td>\n",
       "      <td>3</td>\n",
       "      <td>67</td>\n",
       "      <td>0.5</td>\n",
       "    </tr>\n",
       "    <tr>\n",
       "      <th>4</th>\n",
       "      <td>( okay not confident in your product knowledge...</td>\n",
       "      <td>( its good ingredients in your product knowled...</td>\n",
       "      <td>m6</td>\n",
       "      <td>0</td>\n",
       "      <td>3</td>\n",
       "      <td>67</td>\n",
       "      <td>0.5</td>\n",
       "    </tr>\n",
       "    <tr>\n",
       "      <th>...</th>\n",
       "      <td>...</td>\n",
       "      <td>...</td>\n",
       "      <td>...</td>\n",
       "      <td>...</td>\n",
       "      <td>...</td>\n",
       "      <td>...</td>\n",
       "      <td>...</td>\n",
       "    </tr>\n",
       "    <tr>\n",
       "      <th>881</th>\n",
       "      <td>wow - i had robert 's special and it was delic...</td>\n",
       "      <td>however if i have eaten here from and it was j...</td>\n",
       "      <td>m0</td>\n",
       "      <td>1</td>\n",
       "      <td>2</td>\n",
       "      <td>170</td>\n",
       "      <td>0.0</td>\n",
       "    </tr>\n",
       "    <tr>\n",
       "      <th>882</th>\n",
       "      <td>wow - i had robert 's special and it was delic...</td>\n",
       "      <td>wow , i had it not special and it was disgusti...</td>\n",
       "      <td>m7</td>\n",
       "      <td>1</td>\n",
       "      <td>4</td>\n",
       "      <td>170</td>\n",
       "      <td>1.0</td>\n",
       "    </tr>\n",
       "    <tr>\n",
       "      <th>883</th>\n",
       "      <td>you ca n't truly ever redeem yourself after th...</td>\n",
       "      <td>you ca n't absolutely ever recommended me like...</td>\n",
       "      <td>m2</td>\n",
       "      <td>0</td>\n",
       "      <td>3</td>\n",
       "      <td>42</td>\n",
       "      <td>0.5</td>\n",
       "    </tr>\n",
       "    <tr>\n",
       "      <th>884</th>\n",
       "      <td>you ca n't truly ever redeem yourself after th...</td>\n",
       "      <td>you ca n't really not take it at that .</td>\n",
       "      <td>m7</td>\n",
       "      <td>0</td>\n",
       "      <td>3</td>\n",
       "      <td>52</td>\n",
       "      <td>0.5</td>\n",
       "    </tr>\n",
       "    <tr>\n",
       "      <th>885</th>\n",
       "      <td>you ca n't truly ever redeem yourself after th...</td>\n",
       "      <td>you do n't recommend it right for .</td>\n",
       "      <td>m0</td>\n",
       "      <td>0</td>\n",
       "      <td>3</td>\n",
       "      <td>42</td>\n",
       "      <td>0.5</td>\n",
       "    </tr>\n",
       "  </tbody>\n",
       "</table>\n",
       "<p>886 rows × 7 columns</p>\n",
       "</div>"
      ],
      "text/plain": [
       "                                              original  \\\n",
       "0                                 $ _num_ for a soda ?   \n",
       "1                                 $ _num_ for a soda ?   \n",
       "2                                 $ _num_ for a soda ?   \n",
       "3    ( okay not confident in your product knowledge...   \n",
       "4    ( okay not confident in your product knowledge...   \n",
       "..                                                 ...   \n",
       "881  wow - i had robert 's special and it was delic...   \n",
       "882  wow - i had robert 's special and it was delic...   \n",
       "883  you ca n't truly ever redeem yourself after th...   \n",
       "884  you ca n't truly ever redeem yourself after th...   \n",
       "885  you ca n't truly ever redeem yourself after th...   \n",
       "\n",
       "                                             rewritten model  style  \\\n",
       "0                                      $ _num_ for a !    m0      0   \n",
       "1                                 $ _num_ for a beer !    m7      0   \n",
       "2                                 $ _num_ for a plus ?    m2      0   \n",
       "3        ( good always quality in your work work too .    m7      0   \n",
       "4    ( its good ingredients in your product knowled...    m6      0   \n",
       "..                                                 ...   ...    ...   \n",
       "881  however if i have eaten here from and it was j...    m0      1   \n",
       "882  wow , i had it not special and it was disgusti...    m7      1   \n",
       "883  you ca n't absolutely ever recommended me like...    m2      0   \n",
       "884            you ca n't really not take it at that .    m7      0   \n",
       "885                you do n't recommend it right for .    m0      0   \n",
       "\n",
       "     ranking_score  pair_id  score  \n",
       "0                2       18    0.5  \n",
       "1                4       18    1.0  \n",
       "2                3       18    0.5  \n",
       "3                3       67    0.5  \n",
       "4                3       67    0.5  \n",
       "..             ...      ...    ...  \n",
       "881              2      170    0.0  \n",
       "882              4      170    1.0  \n",
       "883              3       42    0.5  \n",
       "884              3       52    0.5  \n",
       "885              3       42    0.5  \n",
       "\n",
       "[886 rows x 7 columns]"
      ]
     },
     "execution_count": 56,
     "metadata": {},
     "output_type": "execute_result"
    }
   ],
   "source": [
    "unpaired_dedup"
   ]
  },
  {
   "cell_type": "code",
   "execution_count": 57,
   "id": "61c88352",
   "metadata": {},
   "outputs": [],
   "source": [
    "pd.DataFrame({\n",
    "    'text1': unpaired_dedup.original,\n",
    "    'text2': unpaired_dedup.rewritten,\n",
    "    'human': unpaired_dedup.ranking_score,\n",
    "}).to_csv('datasets/PG_YELP.csv', index=None)"
   ]
  },
  {
   "cell_type": "markdown",
   "id": "84d666bf",
   "metadata": {},
   "source": [
    "### CAE-T5"
   ]
  },
  {
   "cell_type": "code",
   "execution_count": 60,
   "id": "086f1454",
   "metadata": {},
   "outputs": [],
   "source": [
    "df = pd.read_csv('source_data/f1659626_annon.csv')"
   ]
  },
  {
   "cell_type": "code",
   "execution_count": 67,
   "id": "e182dec6",
   "metadata": {},
   "outputs": [
    {
     "name": "stdout",
     "output_type": "stream",
     "text": [
      "(500, 6)\n"
     ]
    }
   ],
   "source": [
    "d2 = df.groupby(\n",
    "    ['original_toxic_comment', 'variable', 'value']\n",
    ").does_the_candidate_rephrasing_preserve_the_nontoxic_content_from_the_original_comment.aggregate([\n",
    "    len, np.mean, list\n",
    "]).reset_index()\n",
    "print(d2.shape)"
   ]
  },
  {
   "cell_type": "code",
   "execution_count": 69,
   "id": "87f6c571",
   "metadata": {},
   "outputs": [
    {
     "data": {
      "text/html": [
       "<div>\n",
       "<style scoped>\n",
       "    .dataframe tbody tr th:only-of-type {\n",
       "        vertical-align: middle;\n",
       "    }\n",
       "\n",
       "    .dataframe tbody tr th {\n",
       "        vertical-align: top;\n",
       "    }\n",
       "\n",
       "    .dataframe thead th {\n",
       "        text-align: right;\n",
       "    }\n",
       "</style>\n",
       "<table border=\"1\" class=\"dataframe\">\n",
       "  <thead>\n",
       "    <tr style=\"text-align: right;\">\n",
       "      <th></th>\n",
       "      <th>original_toxic_comment</th>\n",
       "      <th>variable</th>\n",
       "      <th>value</th>\n",
       "      <th>len</th>\n",
       "      <th>mean</th>\n",
       "      <th>list</th>\n",
       "    </tr>\n",
       "  </thead>\n",
       "  <tbody>\n",
       "    <tr>\n",
       "      <th>0</th>\n",
       "      <td>\" Somebody was certainly stupid with his e-mail.\"</td>\n",
       "      <td>CA rephrasing</td>\n",
       "      <td>he was &lt;unk&gt; in this country with a &lt;unk&gt;</td>\n",
       "      <td>5</td>\n",
       "      <td>1.8</td>\n",
       "      <td>[5, 1, 1, 1, 1]</td>\n",
       "    </tr>\n",
       "    <tr>\n",
       "      <th>1</th>\n",
       "      <td>\" Somebody was certainly stupid with his e-mail.\"</td>\n",
       "      <td>CAET rephrasing</td>\n",
       "      <td>\"he was certainly not a friend of mine,\" he sa...</td>\n",
       "      <td>5</td>\n",
       "      <td>1.4</td>\n",
       "      <td>[1, 1, 3, 1, 1]</td>\n",
       "    </tr>\n",
       "    <tr>\n",
       "      <th>2</th>\n",
       "      <td>\" Somebody was certainly stupid with his e-mail.\"</td>\n",
       "      <td>IE rephrasing</td>\n",
       "      <td>\" somebody was certainly [mask] with his e - m...</td>\n",
       "      <td>5</td>\n",
       "      <td>2.6</td>\n",
       "      <td>[3, 1, 3, 3, 3]</td>\n",
       "    </tr>\n",
       "    <tr>\n",
       "      <th>3</th>\n",
       "      <td>\" Somebody was certainly stupid with his e-mail.\"</td>\n",
       "      <td>ST (cond) rephrasing</td>\n",
       "      <td>\" somebody was certainly with his \" somebody</td>\n",
       "      <td>5</td>\n",
       "      <td>1.0</td>\n",
       "      <td>[1, 1, 1, 1, 1]</td>\n",
       "    </tr>\n",
       "    <tr>\n",
       "      <th>4</th>\n",
       "      <td>\" Somebody was certainly stupid with his e-mail.\"</td>\n",
       "      <td>ST (multi) rephrasing</td>\n",
       "      <td>\" somebody was certainly with his \"</td>\n",
       "      <td>5</td>\n",
       "      <td>2.2</td>\n",
       "      <td>[1, 1, 3, 5, 1]</td>\n",
       "    </tr>\n",
       "    <tr>\n",
       "      <th>...</th>\n",
       "      <td>...</td>\n",
       "      <td>...</td>\n",
       "      <td>...</td>\n",
       "      <td>...</td>\n",
       "      <td>...</td>\n",
       "      <td>...</td>\n",
       "    </tr>\n",
       "    <tr>\n",
       "      <th>495</th>\n",
       "      <td>you haven't lost a single cent to anything lik...</td>\n",
       "      <td>CA rephrasing</td>\n",
       "      <td>you can get to get a place in the place in the...</td>\n",
       "      <td>5</td>\n",
       "      <td>2.2</td>\n",
       "      <td>[1, 5, 2, 1, 2]</td>\n",
       "    </tr>\n",
       "    <tr>\n",
       "      <th>496</th>\n",
       "      <td>you haven't lost a single cent to anything lik...</td>\n",
       "      <td>CAET rephrasing</td>\n",
       "      <td>you haven't seen a single one of them in years...</td>\n",
       "      <td>5</td>\n",
       "      <td>2.6</td>\n",
       "      <td>[1, 5, 2, 1, 4]</td>\n",
       "    </tr>\n",
       "    <tr>\n",
       "      <th>497</th>\n",
       "      <td>you haven't lost a single cent to anything lik...</td>\n",
       "      <td>IE rephrasing</td>\n",
       "      <td>you haven ' t lost a single cent to anything l...</td>\n",
       "      <td>5</td>\n",
       "      <td>3.6</td>\n",
       "      <td>[1, 5, 4, 5, 3]</td>\n",
       "    </tr>\n",
       "    <tr>\n",
       "      <th>498</th>\n",
       "      <td>you haven't lost a single cent to anything lik...</td>\n",
       "      <td>ST (cond) rephrasing</td>\n",
       "      <td>you haven't lost a single cent to anything lik...</td>\n",
       "      <td>5</td>\n",
       "      <td>1.6</td>\n",
       "      <td>[1, 4, 1, 1, 1]</td>\n",
       "    </tr>\n",
       "    <tr>\n",
       "      <th>499</th>\n",
       "      <td>you haven't lost a single cent to anything lik...</td>\n",
       "      <td>ST (multi) rephrasing</td>\n",
       "      <td>you haven't lost a single cent to anything lik...</td>\n",
       "      <td>5</td>\n",
       "      <td>1.6</td>\n",
       "      <td>[1, 3, 2, 1, 1]</td>\n",
       "    </tr>\n",
       "  </tbody>\n",
       "</table>\n",
       "<p>500 rows × 6 columns</p>\n",
       "</div>"
      ],
      "text/plain": [
       "                                original_toxic_comment               variable  \\\n",
       "0    \" Somebody was certainly stupid with his e-mail.\"          CA rephrasing   \n",
       "1    \" Somebody was certainly stupid with his e-mail.\"        CAET rephrasing   \n",
       "2    \" Somebody was certainly stupid with his e-mail.\"          IE rephrasing   \n",
       "3    \" Somebody was certainly stupid with his e-mail.\"   ST (cond) rephrasing   \n",
       "4    \" Somebody was certainly stupid with his e-mail.\"  ST (multi) rephrasing   \n",
       "..                                                 ...                    ...   \n",
       "495  you haven't lost a single cent to anything lik...          CA rephrasing   \n",
       "496  you haven't lost a single cent to anything lik...        CAET rephrasing   \n",
       "497  you haven't lost a single cent to anything lik...          IE rephrasing   \n",
       "498  you haven't lost a single cent to anything lik...   ST (cond) rephrasing   \n",
       "499  you haven't lost a single cent to anything lik...  ST (multi) rephrasing   \n",
       "\n",
       "                                                 value  len  mean  \\\n",
       "0            he was <unk> in this country with a <unk>    5   1.8   \n",
       "1    \"he was certainly not a friend of mine,\" he sa...    5   1.4   \n",
       "2    \" somebody was certainly [mask] with his e - m...    5   2.6   \n",
       "3         \" somebody was certainly with his \" somebody    5   1.0   \n",
       "4                  \" somebody was certainly with his \"    5   2.2   \n",
       "..                                                 ...  ...   ...   \n",
       "495  you can get to get a place in the place in the...    5   2.2   \n",
       "496  you haven't seen a single one of them in years...    5   2.6   \n",
       "497  you haven ' t lost a single cent to anything l...    5   3.6   \n",
       "498  you haven't lost a single cent to anything lik...    5   1.6   \n",
       "499  you haven't lost a single cent to anything lik...    5   1.6   \n",
       "\n",
       "                list  \n",
       "0    [5, 1, 1, 1, 1]  \n",
       "1    [1, 1, 3, 1, 1]  \n",
       "2    [3, 1, 3, 3, 3]  \n",
       "3    [1, 1, 1, 1, 1]  \n",
       "4    [1, 1, 3, 5, 1]  \n",
       "..               ...  \n",
       "495  [1, 5, 2, 1, 2]  \n",
       "496  [1, 5, 2, 1, 4]  \n",
       "497  [1, 5, 4, 5, 3]  \n",
       "498  [1, 4, 1, 1, 1]  \n",
       "499  [1, 3, 2, 1, 1]  \n",
       "\n",
       "[500 rows x 6 columns]"
      ]
     },
     "execution_count": 69,
     "metadata": {},
     "output_type": "execute_result"
    }
   ],
   "source": [
    "d2"
   ]
  },
  {
   "cell_type": "code",
   "execution_count": 70,
   "id": "c47975c2",
   "metadata": {},
   "outputs": [],
   "source": [
    "pd.DataFrame({\n",
    "    'text1': d2.original_toxic_comment,\n",
    "    'text2': d2.value,\n",
    "    'human': d2['mean'],\n",
    "}).to_csv('datasets/CAE.csv', index=None)"
   ]
  },
  {
   "cell_type": "code",
   "execution_count": null,
   "id": "f220ba49",
   "metadata": {},
   "outputs": [],
   "source": []
  }
 ],
 "metadata": {
  "kernelspec": {
   "display_name": "Python 3 (ipykernel)",
   "language": "python",
   "name": "python3"
  },
  "language_info": {
   "codemirror_mode": {
    "name": "ipython",
    "version": 3
   },
   "file_extension": ".py",
   "mimetype": "text/x-python",
   "name": "python",
   "nbconvert_exporter": "python",
   "pygments_lexer": "ipython3",
   "version": "3.9.6"
  }
 },
 "nbformat": 4,
 "nbformat_minor": 5
}