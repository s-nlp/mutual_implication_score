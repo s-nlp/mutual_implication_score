{
 "cells": [
  {
   "cell_type": "code",
   "execution_count": 3,
   "metadata": {},
   "outputs": [],
   "source": [
    "import os\n",
    "os.environ['CUDA_VISIBLE_DEVICES'] = '0'"
   ]
  },
  {
   "cell_type": "code",
   "execution_count": 13,
   "metadata": {},
   "outputs": [],
   "source": [
    "from mis_architecture import MIS\n",
    "from transformers import AutoTokenizer\n",
    "from tqdm import tqdm\n",
    "import torch"
   ]
  },
  {
   "cell_type": "code",
   "execution_count": 4,
   "metadata": {},
   "outputs": [],
   "source": [
    "source_texts = ['I want to leave this room',\n",
    "               'Hello world, my name is Nick']\n",
    "\n",
    "paraphrases = ['I want to go out of this room',\n",
    "               'Hello world, my surname is Petrov']"
   ]
  },
  {
   "cell_type": "code",
   "execution_count": 5,
   "metadata": {},
   "outputs": [],
   "source": [
    "from torch.utils.data import Dataset, DataLoader\n",
    "class PairsDatasetInference(Dataset):\n",
    "    def __init__(self,texts_first, texts_second):\n",
    "        self.texts_first =texts_first\n",
    "        self.texts_second = texts_second\n",
    "    def __len__(self):\n",
    "        return len(self.texts_first)\n",
    "    def __getitem__(self, idx):\n",
    "        return self.texts_first[idx], self.texts_second[idx]"
   ]
  },
  {
   "cell_type": "code",
   "execution_count": 10,
   "metadata": {},
   "outputs": [],
   "source": [
    "model = MIS.from_pretrained('SkolkovoInstitute/Mutual_Implication_Score')#.cuda()\n",
    "tokenizer = AutoTokenizer.from_pretrained('SkolkovoInstitute/Mutual_Implication_Score')"
   ]
  },
  {
   "cell_type": "code",
   "execution_count": 11,
   "metadata": {},
   "outputs": [],
   "source": [
    "dataset_direct = PairsDatasetInference(source_texts, paraphrases)\n",
    "dataloader_direct = DataLoader(dataset_direct, batch_size = 16)\n",
    "\n",
    "dataset_reverse= PairsDatasetInference(paraphrases, source_texts)\n",
    "dataloader_reverse = DataLoader(dataset_reverse, batch_size = 16)"
   ]
  },
  {
   "cell_type": "code",
   "execution_count": 15,
   "metadata": {},
   "outputs": [
    {
     "name": "stderr",
     "output_type": "stream",
     "text": [
      "100%|██████████| 1/1 [00:00<00:00,  1.89it/s]\n"
     ]
    }
   ],
   "source": [
    "tq = tqdm(zip(dataloader_direct, dataloader_reverse),total = len(dataloader_reverse))\n",
    "\n",
    "preds = []\n",
    "\n",
    "for b1,b2 in tq:\n",
    "\n",
    "    with torch.no_grad():\n",
    "        tokenized1 = tokenizer(*b1, padding=True, truncation='longest_first', return_tensors=\"pt\")#.to(torch.device('cuda'))\n",
    "        tokenized2 = tokenizer(*b2, padding=True, truncation='longest_first', return_tensors=\"pt\")#.to(torch.device('cuda'))\n",
    "\n",
    "        merged_prob = model(tokenized1, tokenized2)\n",
    "\n",
    "        merged_prob = torch.sigmoid(merged_prob)\n",
    "\n",
    "    merged_prob = merged_prob.cpu().numpy()\n",
    "    preds.extend(merged_prob)\n",
    "\n",
    "preds_fl = [float(e) for e in preds]"
   ]
  },
  {
   "cell_type": "code",
   "execution_count": 16,
   "metadata": {},
   "outputs": [
    {
     "data": {
      "text/plain": [
       "[0.9748055338859558, 0.054514043033123016]"
      ]
     },
     "execution_count": 16,
     "metadata": {},
     "output_type": "execute_result"
    }
   ],
   "source": [
    "preds_fl"
   ]
  }
 ],
 "metadata": {
  "kernelspec": {
   "display_name": "Python 3",
   "language": "python",
   "name": "python3"
  },
  "language_info": {
   "codemirror_mode": {
    "name": "ipython",
    "version": 3
   },
   "file_extension": ".py",
   "mimetype": "text/x-python",
   "name": "python",
   "nbconvert_exporter": "python",
   "pygments_lexer": "ipython3",
   "version": "3.7.4"
  }
 },
 "nbformat": 4,
 "nbformat_minor": 4
}
